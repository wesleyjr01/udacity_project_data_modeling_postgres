{
 "cells": [
  {
   "cell_type": "markdown",
   "metadata": {},
   "source": [
    "# ETL Processes\n",
    "Use this notebook to develop the ETL process for each of your tables before completing the `etl.py` file to load the whole datasets."
   ]
  },
  {
   "cell_type": "code",
   "execution_count": 1,
   "metadata": {},
   "outputs": [],
   "source": [
    "import os\n",
    "import glob\n",
    "import numpy as np\n",
    "import psycopg2\n",
    "import pandas as pd\n",
    "from sql_queries import *"
   ]
  },
  {
   "cell_type": "code",
   "execution_count": 2,
   "metadata": {},
   "outputs": [],
   "source": [
    "# Delete and Create all tables before re-running this ETL experiment\n",
    "import create_tables\n",
    "create_tables.main()"
   ]
  },
  {
   "cell_type": "code",
   "execution_count": 3,
   "metadata": {},
   "outputs": [],
   "source": [
    "import numpy\n",
    "\n",
    "# numpy datatypes registered into psycopg2\n",
    "from psycopg2.extensions import register_adapter, AsIs\n",
    "def addapt_numpy_float64(numpy_float64):\n",
    "    return AsIs(numpy_float64)\n",
    "def addapt_numpy_int64(numpy_int64):\n",
    "    return AsIs(numpy_int64)\n",
    "register_adapter(numpy.float64, addapt_numpy_float64)\n",
    "register_adapter(numpy.int64, addapt_numpy_int64)"
   ]
  },
  {
   "cell_type": "code",
   "execution_count": 4,
   "metadata": {},
   "outputs": [],
   "source": [
    "conn = psycopg2.connect(\"host=127.0.0.1 dbname=sparkifydb user=student password=student\")\n",
    "cur = conn.cursor()"
   ]
  },
  {
   "cell_type": "code",
   "execution_count": 5,
   "metadata": {},
   "outputs": [],
   "source": [
    "def get_files(filepath):\n",
    "    all_files = []\n",
    "    for root, dirs, files in os.walk(filepath):\n",
    "        files = glob.glob(os.path.join(root,'*.json'))\n",
    "        for f in files :\n",
    "            all_files.append(os.path.abspath(f))\n",
    "    \n",
    "    return all_files"
   ]
  },
  {
   "cell_type": "markdown",
   "metadata": {},
   "source": [
    "# Process `song_data`\n",
    "In this first part, you'll perform ETL on the first dataset, `song_data`, to create the `songs` and `artists` dimensional tables.\n",
    "\n",
    "Let's perform ETL on a single song file and load a single record into each table to start.\n",
    "- Use the `get_files` function provided above to get a list of all song JSON files in `data/song_data`\n",
    "- Select the first song in this list\n",
    "- Read the song file and view the data"
   ]
  },
  {
   "cell_type": "code",
   "execution_count": 6,
   "metadata": {},
   "outputs": [
    {
     "data": {
      "text/plain": [
       "['/home/wb/gitrepos/udacity_project_data_modeling_postgres/data/song_data/A/A/A/TRAAARJ128F9320760.json',\n",
       " '/home/wb/gitrepos/udacity_project_data_modeling_postgres/data/song_data/A/A/A/TRAAAMO128F1481E7F.json',\n",
       " '/home/wb/gitrepos/udacity_project_data_modeling_postgres/data/song_data/A/A/A/TRAAAEF128F4273421.json',\n",
       " '/home/wb/gitrepos/udacity_project_data_modeling_postgres/data/song_data/A/A/A/TRAAAFD128F92F423A.json',\n",
       " '/home/wb/gitrepos/udacity_project_data_modeling_postgres/data/song_data/A/A/A/TRAAAMQ128F1460CD3.json',\n",
       " '/home/wb/gitrepos/udacity_project_data_modeling_postgres/data/song_data/A/A/A/TRAAADZ128F9348C2E.json',\n",
       " '/home/wb/gitrepos/udacity_project_data_modeling_postgres/data/song_data/A/A/A/TRAAAAW128F429D538.json',\n",
       " '/home/wb/gitrepos/udacity_project_data_modeling_postgres/data/song_data/A/A/A/TRAAABD128F429CF47.json',\n",
       " '/home/wb/gitrepos/udacity_project_data_modeling_postgres/data/song_data/A/A/A/TRAAAVG12903CFA543.json',\n",
       " '/home/wb/gitrepos/udacity_project_data_modeling_postgres/data/song_data/A/A/A/TRAAAVO128F93133D4.json']"
      ]
     },
     "execution_count": 6,
     "metadata": {},
     "output_type": "execute_result"
    }
   ],
   "source": [
    "song_files = (get_files(filepath='data/song_data/A/A/A') + \n",
    "              get_files(filepath='data/song_data/A/A/B') + \n",
    "              get_files(filepath='data/song_data/A/A/C') +\n",
    "              get_files(filepath='data/song_data/A/B/A') +\n",
    "              get_files(filepath='data/song_data/A/B/B') +\n",
    "              get_files(filepath='data/song_data/A/B/C')\n",
    "             )\n",
    "song_files[:10]"
   ]
  },
  {
   "cell_type": "code",
   "execution_count": 7,
   "metadata": {},
   "outputs": [],
   "source": [
    "def build_df_from_multiple_filepaths(filepaths):\n",
    "    \"\"\"Read multiple filepaths and turn them into a pd.DataFrame.\n",
    "    Also, replace empty strings and np.nan to None\"\"\"\n",
    "    \n",
    "    dfs = [pd.read_json(file, lines=True) for file in filepaths]\n",
    "    dfs = pd.concat(dfs, ignore_index=True)\n",
    "    \n",
    "#     To keep data types consistent, first we will replace all np.nan and empty strings with None\n",
    "    dfs.replace(to_replace=\"\", value=np.nan, inplace=True)\n",
    "    dfs = dfs.where(cond=pd.notnull(dfs), other=None)\n",
    "    \n",
    "    return dfs"
   ]
  },
  {
   "cell_type": "code",
   "execution_count": 8,
   "metadata": {},
   "outputs": [
    {
     "data": {
      "text/html": [
       "<div>\n",
       "<style scoped>\n",
       "    .dataframe tbody tr th:only-of-type {\n",
       "        vertical-align: middle;\n",
       "    }\n",
       "\n",
       "    .dataframe tbody tr th {\n",
       "        vertical-align: top;\n",
       "    }\n",
       "\n",
       "    .dataframe thead th {\n",
       "        text-align: right;\n",
       "    }\n",
       "</style>\n",
       "<table border=\"1\" class=\"dataframe\">\n",
       "  <thead>\n",
       "    <tr style=\"text-align: right;\">\n",
       "      <th></th>\n",
       "      <th>num_songs</th>\n",
       "      <th>artist_id</th>\n",
       "      <th>artist_latitude</th>\n",
       "      <th>artist_longitude</th>\n",
       "      <th>artist_location</th>\n",
       "      <th>artist_name</th>\n",
       "      <th>song_id</th>\n",
       "      <th>title</th>\n",
       "      <th>duration</th>\n",
       "      <th>year</th>\n",
       "    </tr>\n",
       "  </thead>\n",
       "  <tbody>\n",
       "    <tr>\n",
       "      <th>0</th>\n",
       "      <td>1</td>\n",
       "      <td>AR8ZCNI1187B9A069B</td>\n",
       "      <td>None</td>\n",
       "      <td>None</td>\n",
       "      <td>None</td>\n",
       "      <td>Planet P Project</td>\n",
       "      <td>SOIAZJW12AB01853F1</td>\n",
       "      <td>Pink World</td>\n",
       "      <td>269.81832</td>\n",
       "      <td>1984</td>\n",
       "    </tr>\n",
       "    <tr>\n",
       "      <th>1</th>\n",
       "      <td>1</td>\n",
       "      <td>ARKFYS91187B98E58F</td>\n",
       "      <td>None</td>\n",
       "      <td>None</td>\n",
       "      <td>None</td>\n",
       "      <td>Jeff And Sheri Easter</td>\n",
       "      <td>SOYMRWW12A6D4FAB14</td>\n",
       "      <td>The Moon And I (Ordinary Day Album Version)</td>\n",
       "      <td>267.7024</td>\n",
       "      <td>0</td>\n",
       "    </tr>\n",
       "    <tr>\n",
       "      <th>2</th>\n",
       "      <td>1</td>\n",
       "      <td>AR7G5I41187FB4CE6C</td>\n",
       "      <td>None</td>\n",
       "      <td>None</td>\n",
       "      <td>London, England</td>\n",
       "      <td>Adam Ant</td>\n",
       "      <td>SONHOTT12A8C13493C</td>\n",
       "      <td>Something Girls</td>\n",
       "      <td>233.40363</td>\n",
       "      <td>1982</td>\n",
       "    </tr>\n",
       "    <tr>\n",
       "      <th>3</th>\n",
       "      <td>1</td>\n",
       "      <td>ARXR32B1187FB57099</td>\n",
       "      <td>None</td>\n",
       "      <td>None</td>\n",
       "      <td>None</td>\n",
       "      <td>Gob</td>\n",
       "      <td>SOFSOCN12A8C143F5D</td>\n",
       "      <td>Face the Ashes</td>\n",
       "      <td>209.60608</td>\n",
       "      <td>2007</td>\n",
       "    </tr>\n",
       "    <tr>\n",
       "      <th>4</th>\n",
       "      <td>1</td>\n",
       "      <td>ARD0S291187B9B7BF5</td>\n",
       "      <td>None</td>\n",
       "      <td>None</td>\n",
       "      <td>Ohio</td>\n",
       "      <td>Rated R</td>\n",
       "      <td>SOMJBYD12A6D4F8557</td>\n",
       "      <td>Keepin It Real (Skit)</td>\n",
       "      <td>114.78159</td>\n",
       "      <td>0</td>\n",
       "    </tr>\n",
       "  </tbody>\n",
       "</table>\n",
       "</div>"
      ],
      "text/plain": [
       "   num_songs           artist_id artist_latitude artist_longitude  \\\n",
       "0          1  AR8ZCNI1187B9A069B            None             None   \n",
       "1          1  ARKFYS91187B98E58F            None             None   \n",
       "2          1  AR7G5I41187FB4CE6C            None             None   \n",
       "3          1  ARXR32B1187FB57099            None             None   \n",
       "4          1  ARD0S291187B9B7BF5            None             None   \n",
       "\n",
       "   artist_location            artist_name             song_id  \\\n",
       "0             None       Planet P Project  SOIAZJW12AB01853F1   \n",
       "1             None  Jeff And Sheri Easter  SOYMRWW12A6D4FAB14   \n",
       "2  London, England               Adam Ant  SONHOTT12A8C13493C   \n",
       "3             None                    Gob  SOFSOCN12A8C143F5D   \n",
       "4             Ohio                Rated R  SOMJBYD12A6D4F8557   \n",
       "\n",
       "                                         title   duration  year  \n",
       "0                                   Pink World  269.81832  1984  \n",
       "1  The Moon And I (Ordinary Day Album Version)   267.7024     0  \n",
       "2                              Something Girls  233.40363  1982  \n",
       "3                               Face the Ashes  209.60608  2007  \n",
       "4                        Keepin It Real (Skit)  114.78159     0  "
      ]
     },
     "execution_count": 8,
     "metadata": {},
     "output_type": "execute_result"
    }
   ],
   "source": [
    "df_songs = build_df_from_multiple_filepaths(filepaths=song_files)\n",
    "df_songs.head()"
   ]
  },
  {
   "cell_type": "code",
   "execution_count": 9,
   "metadata": {},
   "outputs": [
    {
     "data": {
      "text/plain": [
       "(71, 10)"
      ]
     },
     "execution_count": 9,
     "metadata": {},
     "output_type": "execute_result"
    }
   ],
   "source": [
    "df_songs.shape"
   ]
  },
  {
   "cell_type": "markdown",
   "metadata": {},
   "source": [
    "## #1: `artists` Table\n",
    "---\n",
    "This table must be created first since it has no foreign key dependency.\n",
    "\n",
    "#### Extract Data for Artists Table\n",
    "- Select columns for artist ID, name, location, latitude, and longitude\n",
    "- Use `df.values` to select just the values from the dataframe\n",
    "- Index to select the first (only) record in the dataframe\n",
    "- Convert the array to a list and set it to `artist_data`"
   ]
  },
  {
   "cell_type": "code",
   "execution_count": 10,
   "metadata": {},
   "outputs": [
    {
     "data": {
      "text/plain": [
       "69"
      ]
     },
     "execution_count": 10,
     "metadata": {},
     "output_type": "execute_result"
    }
   ],
   "source": [
    "df_songs[\"artist_id\"].nunique()"
   ]
  },
  {
   "cell_type": "code",
   "execution_count": 11,
   "metadata": {},
   "outputs": [
    {
     "data": {
      "text/html": [
       "<div>\n",
       "<style scoped>\n",
       "    .dataframe tbody tr th:only-of-type {\n",
       "        vertical-align: middle;\n",
       "    }\n",
       "\n",
       "    .dataframe tbody tr th {\n",
       "        vertical-align: top;\n",
       "    }\n",
       "\n",
       "    .dataframe thead th {\n",
       "        text-align: right;\n",
       "    }\n",
       "</style>\n",
       "<table border=\"1\" class=\"dataframe\">\n",
       "  <thead>\n",
       "    <tr style=\"text-align: right;\">\n",
       "      <th></th>\n",
       "      <th>artist_id</th>\n",
       "      <th>artist_name</th>\n",
       "      <th>artist_location</th>\n",
       "      <th>artist_latitude</th>\n",
       "      <th>artist_longitude</th>\n",
       "    </tr>\n",
       "  </thead>\n",
       "  <tbody>\n",
       "    <tr>\n",
       "      <th>0</th>\n",
       "      <td>AR8ZCNI1187B9A069B</td>\n",
       "      <td>Planet P Project</td>\n",
       "      <td>None</td>\n",
       "      <td>None</td>\n",
       "      <td>None</td>\n",
       "    </tr>\n",
       "    <tr>\n",
       "      <th>1</th>\n",
       "      <td>ARKFYS91187B98E58F</td>\n",
       "      <td>Jeff And Sheri Easter</td>\n",
       "      <td>None</td>\n",
       "      <td>None</td>\n",
       "      <td>None</td>\n",
       "    </tr>\n",
       "    <tr>\n",
       "      <th>2</th>\n",
       "      <td>AR7G5I41187FB4CE6C</td>\n",
       "      <td>Adam Ant</td>\n",
       "      <td>London, England</td>\n",
       "      <td>None</td>\n",
       "      <td>None</td>\n",
       "    </tr>\n",
       "    <tr>\n",
       "      <th>3</th>\n",
       "      <td>ARXR32B1187FB57099</td>\n",
       "      <td>Gob</td>\n",
       "      <td>None</td>\n",
       "      <td>None</td>\n",
       "      <td>None</td>\n",
       "    </tr>\n",
       "    <tr>\n",
       "      <th>4</th>\n",
       "      <td>ARD0S291187B9B7BF5</td>\n",
       "      <td>Rated R</td>\n",
       "      <td>Ohio</td>\n",
       "      <td>None</td>\n",
       "      <td>None</td>\n",
       "    </tr>\n",
       "  </tbody>\n",
       "</table>\n",
       "</div>"
      ],
      "text/plain": [
       "            artist_id            artist_name  artist_location artist_latitude  \\\n",
       "0  AR8ZCNI1187B9A069B       Planet P Project             None            None   \n",
       "1  ARKFYS91187B98E58F  Jeff And Sheri Easter             None            None   \n",
       "2  AR7G5I41187FB4CE6C               Adam Ant  London, England            None   \n",
       "3  ARXR32B1187FB57099                    Gob             None            None   \n",
       "4  ARD0S291187B9B7BF5                Rated R             Ohio            None   \n",
       "\n",
       "  artist_longitude  \n",
       "0             None  \n",
       "1             None  \n",
       "2             None  \n",
       "3             None  \n",
       "4             None  "
      ]
     },
     "execution_count": 11,
     "metadata": {},
     "output_type": "execute_result"
    }
   ],
   "source": [
    "df_artist = df_songs[[\"artist_id\",\n",
    "                      \"artist_name\",\n",
    "                      \"artist_location\",\n",
    "                      \"artist_latitude\",\n",
    "                      \"artist_longitude\"]]\\\n",
    "                .dropna(axis=0, subset=[\"artist_id\"])\n",
    "\n",
    "df_artist.drop_duplicates(subset=\"artist_id\", inplace=True)\n",
    "df_artist.head()"
   ]
  },
  {
   "cell_type": "code",
   "execution_count": 12,
   "metadata": {},
   "outputs": [
    {
     "data": {
      "text/plain": [
       "(69, 5)"
      ]
     },
     "execution_count": 12,
     "metadata": {},
     "output_type": "execute_result"
    }
   ],
   "source": [
    "df_artist.shape"
   ]
  },
  {
   "cell_type": "markdown",
   "metadata": {},
   "source": [
    "#### Insert Record into Artist Table\n",
    "Implement the `artist_table_insert` query in `sql_queries.py` and run the cell below to insert a record for this song's artist into the `artists` table. Remember to run `create_tables.py` before running the cell below to ensure you've created/resetted the `artists` table in the sparkify database."
   ]
  },
  {
   "cell_type": "code",
   "execution_count": 13,
   "metadata": {},
   "outputs": [],
   "source": [
    "for i, row in df_artist.iterrows():\n",
    "    cur.execute(artist_table_insert, list(row))\n",
    "    conn.commit()"
   ]
  },
  {
   "cell_type": "markdown",
   "metadata": {},
   "source": [
    "Run `test.ipynb` to see if you've successfully added a record to this table."
   ]
  },
  {
   "cell_type": "markdown",
   "metadata": {},
   "source": [
    "## #2: `songs` Table\n",
    "#### Extract Data for Songs Table\n",
    "- Select columns for song ID, title, artist ID, year, and duration\n",
    "- Use `df.values` to select just the values from the dataframe\n",
    "- Index to select the first (only) record in the dataframe\n",
    "- Convert the array to a list and set it to `song_data`"
   ]
  },
  {
   "cell_type": "code",
   "execution_count": 14,
   "metadata": {},
   "outputs": [
    {
     "data": {
      "text/html": [
       "<div>\n",
       "<style scoped>\n",
       "    .dataframe tbody tr th:only-of-type {\n",
       "        vertical-align: middle;\n",
       "    }\n",
       "\n",
       "    .dataframe tbody tr th {\n",
       "        vertical-align: top;\n",
       "    }\n",
       "\n",
       "    .dataframe thead th {\n",
       "        text-align: right;\n",
       "    }\n",
       "</style>\n",
       "<table border=\"1\" class=\"dataframe\">\n",
       "  <thead>\n",
       "    <tr style=\"text-align: right;\">\n",
       "      <th></th>\n",
       "      <th>song_id</th>\n",
       "      <th>title</th>\n",
       "      <th>artist_id</th>\n",
       "      <th>year</th>\n",
       "      <th>duration</th>\n",
       "    </tr>\n",
       "  </thead>\n",
       "  <tbody>\n",
       "    <tr>\n",
       "      <th>0</th>\n",
       "      <td>SOIAZJW12AB01853F1</td>\n",
       "      <td>Pink World</td>\n",
       "      <td>AR8ZCNI1187B9A069B</td>\n",
       "      <td>1984</td>\n",
       "      <td>269.81832</td>\n",
       "    </tr>\n",
       "    <tr>\n",
       "      <th>1</th>\n",
       "      <td>SOYMRWW12A6D4FAB14</td>\n",
       "      <td>The Moon And I (Ordinary Day Album Version)</td>\n",
       "      <td>ARKFYS91187B98E58F</td>\n",
       "      <td>0</td>\n",
       "      <td>267.7024</td>\n",
       "    </tr>\n",
       "    <tr>\n",
       "      <th>2</th>\n",
       "      <td>SONHOTT12A8C13493C</td>\n",
       "      <td>Something Girls</td>\n",
       "      <td>AR7G5I41187FB4CE6C</td>\n",
       "      <td>1982</td>\n",
       "      <td>233.40363</td>\n",
       "    </tr>\n",
       "    <tr>\n",
       "      <th>3</th>\n",
       "      <td>SOFSOCN12A8C143F5D</td>\n",
       "      <td>Face the Ashes</td>\n",
       "      <td>ARXR32B1187FB57099</td>\n",
       "      <td>2007</td>\n",
       "      <td>209.60608</td>\n",
       "    </tr>\n",
       "    <tr>\n",
       "      <th>4</th>\n",
       "      <td>SOMJBYD12A6D4F8557</td>\n",
       "      <td>Keepin It Real (Skit)</td>\n",
       "      <td>ARD0S291187B9B7BF5</td>\n",
       "      <td>0</td>\n",
       "      <td>114.78159</td>\n",
       "    </tr>\n",
       "  </tbody>\n",
       "</table>\n",
       "</div>"
      ],
      "text/plain": [
       "              song_id                                        title  \\\n",
       "0  SOIAZJW12AB01853F1                                   Pink World   \n",
       "1  SOYMRWW12A6D4FAB14  The Moon And I (Ordinary Day Album Version)   \n",
       "2  SONHOTT12A8C13493C                              Something Girls   \n",
       "3  SOFSOCN12A8C143F5D                               Face the Ashes   \n",
       "4  SOMJBYD12A6D4F8557                        Keepin It Real (Skit)   \n",
       "\n",
       "            artist_id  year   duration  \n",
       "0  AR8ZCNI1187B9A069B  1984  269.81832  \n",
       "1  ARKFYS91187B98E58F     0   267.7024  \n",
       "2  AR7G5I41187FB4CE6C  1982  233.40363  \n",
       "3  ARXR32B1187FB57099  2007  209.60608  \n",
       "4  ARD0S291187B9B7BF5     0  114.78159  "
      ]
     },
     "execution_count": 14,
     "metadata": {},
     "output_type": "execute_result"
    }
   ],
   "source": [
    "df_songs_table = df_songs[[\"song_id\",\n",
    "                           \"title\",\n",
    "                           \"artist_id\",\n",
    "                           \"year\",\n",
    "                           \"duration\"]]\\\n",
    "                .dropna(axis=0, subset=[\"song_id\"])\n",
    "\n",
    "df_songs.drop_duplicates(subset=\"song_id\", inplace=True)\n",
    "df_songs_table.head()"
   ]
  },
  {
   "cell_type": "markdown",
   "metadata": {},
   "source": [
    "#### Insert Record into Song Table\n",
    "Implement the `song_table_insert` query in `sql_queries.py` and run the cell below to insert a record for this song into the `songs` table. Remember to run `create_tables.py` before running the cell below to ensure you've created/resetted the `songs` table in the sparkify database."
   ]
  },
  {
   "cell_type": "code",
   "execution_count": 15,
   "metadata": {},
   "outputs": [],
   "source": [
    "for i, row in df_songs_table.iterrows():\n",
    "    cur.execute(song_table_insert, list(row))\n",
    "    conn.commit()"
   ]
  },
  {
   "cell_type": "markdown",
   "metadata": {},
   "source": [
    "Run `test.ipynb` to see if you've successfully added a record to this table."
   ]
  },
  {
   "cell_type": "markdown",
   "metadata": {},
   "source": [
    "# Process `log_data`\n",
    "In this part, you'll perform ETL on the second dataset, `log_data`, to create the `time` and `users` dimensional tables, as well as the `songplays` fact table.\n",
    "\n",
    "Let's perform ETL on a single log file and load a single record into each table.\n",
    "- Use the `get_files` function provided above to get a list of all log JSON files in `data/log_data`\n",
    "- Select the first log file in this list\n",
    "- Read the log file and view the data"
   ]
  },
  {
   "cell_type": "code",
   "execution_count": 16,
   "metadata": {},
   "outputs": [
    {
     "data": {
      "text/plain": [
       "['/home/wb/gitrepos/udacity_project_data_modeling_postgres/data/log_data/2018/11/2018-11-13-events.json',\n",
       " '/home/wb/gitrepos/udacity_project_data_modeling_postgres/data/log_data/2018/11/2018-11-12-events.json',\n",
       " '/home/wb/gitrepos/udacity_project_data_modeling_postgres/data/log_data/2018/11/2018-11-17-events.json',\n",
       " '/home/wb/gitrepos/udacity_project_data_modeling_postgres/data/log_data/2018/11/2018-11-14-events.json',\n",
       " '/home/wb/gitrepos/udacity_project_data_modeling_postgres/data/log_data/2018/11/2018-11-11-events.json',\n",
       " '/home/wb/gitrepos/udacity_project_data_modeling_postgres/data/log_data/2018/11/2018-11-03-events.json',\n",
       " '/home/wb/gitrepos/udacity_project_data_modeling_postgres/data/log_data/2018/11/2018-11-05-events.json',\n",
       " '/home/wb/gitrepos/udacity_project_data_modeling_postgres/data/log_data/2018/11/2018-11-19-events.json',\n",
       " '/home/wb/gitrepos/udacity_project_data_modeling_postgres/data/log_data/2018/11/2018-11-26-events.json',\n",
       " '/home/wb/gitrepos/udacity_project_data_modeling_postgres/data/log_data/2018/11/2018-11-01-events.json',\n",
       " '/home/wb/gitrepos/udacity_project_data_modeling_postgres/data/log_data/2018/11/2018-11-27-events.json',\n",
       " '/home/wb/gitrepos/udacity_project_data_modeling_postgres/data/log_data/2018/11/2018-11-10-events.json',\n",
       " '/home/wb/gitrepos/udacity_project_data_modeling_postgres/data/log_data/2018/11/2018-11-24-events.json',\n",
       " '/home/wb/gitrepos/udacity_project_data_modeling_postgres/data/log_data/2018/11/2018-11-25-events.json',\n",
       " '/home/wb/gitrepos/udacity_project_data_modeling_postgres/data/log_data/2018/11/2018-11-22-events.json',\n",
       " '/home/wb/gitrepos/udacity_project_data_modeling_postgres/data/log_data/2018/11/2018-11-28-events.json',\n",
       " '/home/wb/gitrepos/udacity_project_data_modeling_postgres/data/log_data/2018/11/2018-11-23-events.json',\n",
       " '/home/wb/gitrepos/udacity_project_data_modeling_postgres/data/log_data/2018/11/2018-11-18-events.json',\n",
       " '/home/wb/gitrepos/udacity_project_data_modeling_postgres/data/log_data/2018/11/2018-11-06-events.json',\n",
       " '/home/wb/gitrepos/udacity_project_data_modeling_postgres/data/log_data/2018/11/2018-11-04-events.json',\n",
       " '/home/wb/gitrepos/udacity_project_data_modeling_postgres/data/log_data/2018/11/2018-11-21-events.json',\n",
       " '/home/wb/gitrepos/udacity_project_data_modeling_postgres/data/log_data/2018/11/2018-11-15-events.json',\n",
       " '/home/wb/gitrepos/udacity_project_data_modeling_postgres/data/log_data/2018/11/2018-11-07-events.json',\n",
       " '/home/wb/gitrepos/udacity_project_data_modeling_postgres/data/log_data/2018/11/2018-11-16-events.json',\n",
       " '/home/wb/gitrepos/udacity_project_data_modeling_postgres/data/log_data/2018/11/2018-11-08-events.json',\n",
       " '/home/wb/gitrepos/udacity_project_data_modeling_postgres/data/log_data/2018/11/2018-11-02-events.json',\n",
       " '/home/wb/gitrepos/udacity_project_data_modeling_postgres/data/log_data/2018/11/2018-11-09-events.json',\n",
       " '/home/wb/gitrepos/udacity_project_data_modeling_postgres/data/log_data/2018/11/2018-11-20-events.json']"
      ]
     },
     "execution_count": 16,
     "metadata": {},
     "output_type": "execute_result"
    }
   ],
   "source": [
    "log_files_paths = get_files(filepath='data/log_data/2018/11')\n",
    "log_files_paths"
   ]
  },
  {
   "cell_type": "code",
   "execution_count": 17,
   "metadata": {},
   "outputs": [
    {
     "data": {
      "text/html": [
       "<div>\n",
       "<style scoped>\n",
       "    .dataframe tbody tr th:only-of-type {\n",
       "        vertical-align: middle;\n",
       "    }\n",
       "\n",
       "    .dataframe tbody tr th {\n",
       "        vertical-align: top;\n",
       "    }\n",
       "\n",
       "    .dataframe thead th {\n",
       "        text-align: right;\n",
       "    }\n",
       "</style>\n",
       "<table border=\"1\" class=\"dataframe\">\n",
       "  <thead>\n",
       "    <tr style=\"text-align: right;\">\n",
       "      <th></th>\n",
       "      <th>artist</th>\n",
       "      <th>auth</th>\n",
       "      <th>firstName</th>\n",
       "      <th>gender</th>\n",
       "      <th>itemInSession</th>\n",
       "      <th>lastName</th>\n",
       "      <th>length</th>\n",
       "      <th>level</th>\n",
       "      <th>location</th>\n",
       "      <th>method</th>\n",
       "      <th>page</th>\n",
       "      <th>registration</th>\n",
       "      <th>sessionId</th>\n",
       "      <th>song</th>\n",
       "      <th>status</th>\n",
       "      <th>ts</th>\n",
       "      <th>userAgent</th>\n",
       "      <th>userId</th>\n",
       "    </tr>\n",
       "  </thead>\n",
       "  <tbody>\n",
       "    <tr>\n",
       "      <th>0</th>\n",
       "      <td>None</td>\n",
       "      <td>Logged In</td>\n",
       "      <td>Kevin</td>\n",
       "      <td>M</td>\n",
       "      <td>0</td>\n",
       "      <td>Arellano</td>\n",
       "      <td>None</td>\n",
       "      <td>free</td>\n",
       "      <td>Harrisburg-Carlisle, PA</td>\n",
       "      <td>GET</td>\n",
       "      <td>Home</td>\n",
       "      <td>1540006905796.0</td>\n",
       "      <td>514</td>\n",
       "      <td>None</td>\n",
       "      <td>200</td>\n",
       "      <td>1542069417796</td>\n",
       "      <td>\"Mozilla/5.0 (Macintosh; Intel Mac OS X 10_9_4...</td>\n",
       "      <td>66</td>\n",
       "    </tr>\n",
       "    <tr>\n",
       "      <th>1</th>\n",
       "      <td>Fu</td>\n",
       "      <td>Logged In</td>\n",
       "      <td>Kevin</td>\n",
       "      <td>M</td>\n",
       "      <td>1</td>\n",
       "      <td>Arellano</td>\n",
       "      <td>280.05832</td>\n",
       "      <td>free</td>\n",
       "      <td>Harrisburg-Carlisle, PA</td>\n",
       "      <td>PUT</td>\n",
       "      <td>NextSong</td>\n",
       "      <td>1540006905796.0</td>\n",
       "      <td>514</td>\n",
       "      <td>Ja I Ty</td>\n",
       "      <td>200</td>\n",
       "      <td>1542069637796</td>\n",
       "      <td>\"Mozilla/5.0 (Macintosh; Intel Mac OS X 10_9_4...</td>\n",
       "      <td>66</td>\n",
       "    </tr>\n",
       "    <tr>\n",
       "      <th>2</th>\n",
       "      <td>None</td>\n",
       "      <td>Logged In</td>\n",
       "      <td>Maia</td>\n",
       "      <td>F</td>\n",
       "      <td>0</td>\n",
       "      <td>Burke</td>\n",
       "      <td>None</td>\n",
       "      <td>free</td>\n",
       "      <td>Houston-The Woodlands-Sugar Land, TX</td>\n",
       "      <td>GET</td>\n",
       "      <td>Home</td>\n",
       "      <td>1540676534796.0</td>\n",
       "      <td>510</td>\n",
       "      <td>None</td>\n",
       "      <td>200</td>\n",
       "      <td>1542071524796</td>\n",
       "      <td>\"Mozilla/5.0 (Windows NT 6.3; WOW64) AppleWebK...</td>\n",
       "      <td>51</td>\n",
       "    </tr>\n",
       "    <tr>\n",
       "      <th>3</th>\n",
       "      <td>All Time Low</td>\n",
       "      <td>Logged In</td>\n",
       "      <td>Maia</td>\n",
       "      <td>F</td>\n",
       "      <td>1</td>\n",
       "      <td>Burke</td>\n",
       "      <td>177.84118</td>\n",
       "      <td>free</td>\n",
       "      <td>Houston-The Woodlands-Sugar Land, TX</td>\n",
       "      <td>PUT</td>\n",
       "      <td>NextSong</td>\n",
       "      <td>1540676534796.0</td>\n",
       "      <td>510</td>\n",
       "      <td>A Party Song (The Walk of Shame)</td>\n",
       "      <td>200</td>\n",
       "      <td>1542071549796</td>\n",
       "      <td>\"Mozilla/5.0 (Windows NT 6.3; WOW64) AppleWebK...</td>\n",
       "      <td>51</td>\n",
       "    </tr>\n",
       "    <tr>\n",
       "      <th>4</th>\n",
       "      <td>Nik &amp; Jay</td>\n",
       "      <td>Logged In</td>\n",
       "      <td>Wyatt</td>\n",
       "      <td>M</td>\n",
       "      <td>0</td>\n",
       "      <td>Scott</td>\n",
       "      <td>196.51873</td>\n",
       "      <td>free</td>\n",
       "      <td>Eureka-Arcata-Fortuna, CA</td>\n",
       "      <td>PUT</td>\n",
       "      <td>NextSong</td>\n",
       "      <td>1540872073796.0</td>\n",
       "      <td>379</td>\n",
       "      <td>Pop-Pop!</td>\n",
       "      <td>200</td>\n",
       "      <td>1542079142796</td>\n",
       "      <td>Mozilla/5.0 (Windows NT 6.1; WOW64; Trident/7....</td>\n",
       "      <td>9</td>\n",
       "    </tr>\n",
       "  </tbody>\n",
       "</table>\n",
       "</div>"
      ],
      "text/plain": [
       "         artist       auth firstName gender  itemInSession  lastName  \\\n",
       "0          None  Logged In     Kevin      M              0  Arellano   \n",
       "1            Fu  Logged In     Kevin      M              1  Arellano   \n",
       "2          None  Logged In      Maia      F              0     Burke   \n",
       "3  All Time Low  Logged In      Maia      F              1     Burke   \n",
       "4     Nik & Jay  Logged In     Wyatt      M              0     Scott   \n",
       "\n",
       "      length level                              location method      page  \\\n",
       "0       None  free               Harrisburg-Carlisle, PA    GET      Home   \n",
       "1  280.05832  free               Harrisburg-Carlisle, PA    PUT  NextSong   \n",
       "2       None  free  Houston-The Woodlands-Sugar Land, TX    GET      Home   \n",
       "3  177.84118  free  Houston-The Woodlands-Sugar Land, TX    PUT  NextSong   \n",
       "4  196.51873  free             Eureka-Arcata-Fortuna, CA    PUT  NextSong   \n",
       "\n",
       "      registration  sessionId                              song  status  \\\n",
       "0  1540006905796.0        514                              None     200   \n",
       "1  1540006905796.0        514                           Ja I Ty     200   \n",
       "2  1540676534796.0        510                              None     200   \n",
       "3  1540676534796.0        510  A Party Song (The Walk of Shame)     200   \n",
       "4  1540872073796.0        379                          Pop-Pop!     200   \n",
       "\n",
       "              ts                                          userAgent userId  \n",
       "0  1542069417796  \"Mozilla/5.0 (Macintosh; Intel Mac OS X 10_9_4...     66  \n",
       "1  1542069637796  \"Mozilla/5.0 (Macintosh; Intel Mac OS X 10_9_4...     66  \n",
       "2  1542071524796  \"Mozilla/5.0 (Windows NT 6.3; WOW64) AppleWebK...     51  \n",
       "3  1542071549796  \"Mozilla/5.0 (Windows NT 6.3; WOW64) AppleWebK...     51  \n",
       "4  1542079142796  Mozilla/5.0 (Windows NT 6.1; WOW64; Trident/7....      9  "
      ]
     },
     "execution_count": 17,
     "metadata": {},
     "output_type": "execute_result"
    }
   ],
   "source": [
    "df_log = build_df_from_multiple_filepaths(filepaths=log_files_paths)\n",
    "df_log.head()"
   ]
  },
  {
   "cell_type": "code",
   "execution_count": 18,
   "metadata": {},
   "outputs": [
    {
     "data": {
      "text/plain": [
       "(7302, 18)"
      ]
     },
     "execution_count": 18,
     "metadata": {},
     "output_type": "execute_result"
    }
   ],
   "source": [
    "df_log.shape"
   ]
  },
  {
   "cell_type": "code",
   "execution_count": 19,
   "metadata": {},
   "outputs": [
    {
     "data": {
      "text/plain": [
       "{'Intro', 'Setanta matins'}"
      ]
     },
     "execution_count": 19,
     "metadata": {},
     "output_type": "execute_result"
    }
   ],
   "source": [
    "# Is there any song intersection between datasets?\n",
    "songs_intersection = set(df_log[\"song\"]).intersection(set(df_songs[\"title\"]))\n",
    "songs_intersection"
   ]
  },
  {
   "cell_type": "code",
   "execution_count": 20,
   "metadata": {},
   "outputs": [
    {
     "data": {
      "text/plain": [
       "{'Blue Rodeo',\n",
       " 'Elena',\n",
       " 'Gob',\n",
       " 'Gwen Stefani',\n",
       " 'Jimmy Wakely',\n",
       " 'Line Renaud',\n",
       " 'Lionel Richie',\n",
       " 'Lupe Fiasco',\n",
       " 'Sophie B. Hawkins',\n",
       " 'Tom Petty',\n",
       " 'Trafik'}"
      ]
     },
     "execution_count": 20,
     "metadata": {},
     "output_type": "execute_result"
    }
   ],
   "source": [
    "# Is there any artists intersection between datasets?\n",
    "artists_intersection = set(df_log[\"artist\"]).intersection(set(df_songs[\"artist_name\"]))\n",
    "artists_intersection"
   ]
  },
  {
   "cell_type": "code",
   "execution_count": 21,
   "metadata": {},
   "outputs": [
    {
     "data": {
      "text/html": [
       "<div>\n",
       "<style scoped>\n",
       "    .dataframe tbody tr th:only-of-type {\n",
       "        vertical-align: middle;\n",
       "    }\n",
       "\n",
       "    .dataframe tbody tr th {\n",
       "        vertical-align: top;\n",
       "    }\n",
       "\n",
       "    .dataframe thead th {\n",
       "        text-align: right;\n",
       "    }\n",
       "</style>\n",
       "<table border=\"1\" class=\"dataframe\">\n",
       "  <thead>\n",
       "    <tr style=\"text-align: right;\">\n",
       "      <th></th>\n",
       "      <th>artist</th>\n",
       "      <th>song</th>\n",
       "      <th>length</th>\n",
       "    </tr>\n",
       "  </thead>\n",
       "  <tbody>\n",
       "    <tr>\n",
       "      <th>687</th>\n",
       "      <td>Lionel Richie</td>\n",
       "      <td>Hello</td>\n",
       "      <td>249.62567</td>\n",
       "    </tr>\n",
       "    <tr>\n",
       "      <th>1069</th>\n",
       "      <td>Lupe Fiasco</td>\n",
       "      <td>Shining Down [feat. Matthew Santos] (Amended A...</td>\n",
       "      <td>273.94567</td>\n",
       "    </tr>\n",
       "    <tr>\n",
       "      <th>1184</th>\n",
       "      <td>Gwen Stefani</td>\n",
       "      <td>Danger Zone</td>\n",
       "      <td>216.76363</td>\n",
       "    </tr>\n",
       "    <tr>\n",
       "      <th>1297</th>\n",
       "      <td>Jimmy Wakely</td>\n",
       "      <td>I Love You So Much It Hurts</td>\n",
       "      <td>165.74649</td>\n",
       "    </tr>\n",
       "    <tr>\n",
       "      <th>2042</th>\n",
       "      <td>Gob</td>\n",
       "      <td>Ming Tran</td>\n",
       "      <td>154.17424</td>\n",
       "    </tr>\n",
       "    <tr>\n",
       "      <th>2092</th>\n",
       "      <td>Tom Petty</td>\n",
       "      <td>Runnin' Down A Dream</td>\n",
       "      <td>263.23546</td>\n",
       "    </tr>\n",
       "    <tr>\n",
       "      <th>2125</th>\n",
       "      <td>Tom Petty</td>\n",
       "      <td>Runnin' Down A Dream</td>\n",
       "      <td>263.23546</td>\n",
       "    </tr>\n",
       "    <tr>\n",
       "      <th>2391</th>\n",
       "      <td>Trafik</td>\n",
       "      <td>Dirty Word</td>\n",
       "      <td>380.21179</td>\n",
       "    </tr>\n",
       "    <tr>\n",
       "      <th>2750</th>\n",
       "      <td>Lupe Fiasco</td>\n",
       "      <td>Shining Down [feat. Matthew Santos] (Amended A...</td>\n",
       "      <td>273.94567</td>\n",
       "    </tr>\n",
       "    <tr>\n",
       "      <th>2751</th>\n",
       "      <td>Tom Petty</td>\n",
       "      <td>Runnin' Down A Dream</td>\n",
       "      <td>263.23546</td>\n",
       "    </tr>\n",
       "    <tr>\n",
       "      <th>2782</th>\n",
       "      <td>Tom Petty</td>\n",
       "      <td>Square One (Album Version)</td>\n",
       "      <td>204.82567</td>\n",
       "    </tr>\n",
       "    <tr>\n",
       "      <th>2864</th>\n",
       "      <td>Sophie B. Hawkins</td>\n",
       "      <td>Damn I Wish I Was Your Lover</td>\n",
       "      <td>323.39546</td>\n",
       "    </tr>\n",
       "    <tr>\n",
       "      <th>2990</th>\n",
       "      <td>Lionel Richie</td>\n",
       "      <td>Don't Wanna Lose You</td>\n",
       "      <td>301.68771</td>\n",
       "    </tr>\n",
       "    <tr>\n",
       "      <th>3344</th>\n",
       "      <td>Line Renaud</td>\n",
       "      <td>Le Soir</td>\n",
       "      <td>176.16934</td>\n",
       "    </tr>\n",
       "    <tr>\n",
       "      <th>3764</th>\n",
       "      <td>Lupe Fiasco</td>\n",
       "      <td>The Coolest (Explicit Album Version)</td>\n",
       "      <td>312.92036</td>\n",
       "    </tr>\n",
       "    <tr>\n",
       "      <th>4290</th>\n",
       "      <td>Blue Rodeo</td>\n",
       "      <td>Hasn't Hit Me Yet</td>\n",
       "      <td>310.9873</td>\n",
       "    </tr>\n",
       "    <tr>\n",
       "      <th>4294</th>\n",
       "      <td>Lupe Fiasco</td>\n",
       "      <td>Hurt Me Soul (Explicit Album Version)</td>\n",
       "      <td>262.89587</td>\n",
       "    </tr>\n",
       "    <tr>\n",
       "      <th>4332</th>\n",
       "      <td>Lupe Fiasco</td>\n",
       "      <td>American Terrorist [feat. Matthew Santos] (Exp...</td>\n",
       "      <td>280.52853</td>\n",
       "    </tr>\n",
       "    <tr>\n",
       "      <th>5095</th>\n",
       "      <td>Elena</td>\n",
       "      <td>Setanta matins</td>\n",
       "      <td>269.58322</td>\n",
       "    </tr>\n",
       "    <tr>\n",
       "      <th>5571</th>\n",
       "      <td>Lionel Richie</td>\n",
       "      <td>Lady</td>\n",
       "      <td>265.89995</td>\n",
       "    </tr>\n",
       "  </tbody>\n",
       "</table>\n",
       "</div>"
      ],
      "text/plain": [
       "                 artist                                               song  \\\n",
       "687       Lionel Richie                                              Hello   \n",
       "1069        Lupe Fiasco  Shining Down [feat. Matthew Santos] (Amended A...   \n",
       "1184       Gwen Stefani                                        Danger Zone   \n",
       "1297       Jimmy Wakely                        I Love You So Much It Hurts   \n",
       "2042                Gob                                          Ming Tran   \n",
       "2092          Tom Petty                               Runnin' Down A Dream   \n",
       "2125          Tom Petty                               Runnin' Down A Dream   \n",
       "2391             Trafik                                         Dirty Word   \n",
       "2750        Lupe Fiasco  Shining Down [feat. Matthew Santos] (Amended A...   \n",
       "2751          Tom Petty                               Runnin' Down A Dream   \n",
       "2782          Tom Petty                         Square One (Album Version)   \n",
       "2864  Sophie B. Hawkins                       Damn I Wish I Was Your Lover   \n",
       "2990      Lionel Richie                               Don't Wanna Lose You   \n",
       "3344        Line Renaud                                            Le Soir   \n",
       "3764        Lupe Fiasco               The Coolest (Explicit Album Version)   \n",
       "4290         Blue Rodeo                                  Hasn't Hit Me Yet   \n",
       "4294        Lupe Fiasco              Hurt Me Soul (Explicit Album Version)   \n",
       "4332        Lupe Fiasco  American Terrorist [feat. Matthew Santos] (Exp...   \n",
       "5095              Elena                                     Setanta matins   \n",
       "5571      Lionel Richie                                               Lady   \n",
       "\n",
       "         length  \n",
       "687   249.62567  \n",
       "1069  273.94567  \n",
       "1184  216.76363  \n",
       "1297  165.74649  \n",
       "2042  154.17424  \n",
       "2092  263.23546  \n",
       "2125  263.23546  \n",
       "2391  380.21179  \n",
       "2750  273.94567  \n",
       "2751  263.23546  \n",
       "2782  204.82567  \n",
       "2864  323.39546  \n",
       "2990  301.68771  \n",
       "3344  176.16934  \n",
       "3764  312.92036  \n",
       "4290   310.9873  \n",
       "4294  262.89587  \n",
       "4332  280.52853  \n",
       "5095  269.58322  \n",
       "5571  265.89995  "
      ]
     },
     "execution_count": 21,
     "metadata": {},
     "output_type": "execute_result"
    }
   ],
   "source": [
    "df_log.loc[df_log[\"artist\"].isin(list(artists_intersection)), [\"artist\", \"song\", \"length\"]]"
   ]
  },
  {
   "cell_type": "code",
   "execution_count": 22,
   "metadata": {},
   "outputs": [
    {
     "data": {
      "text/html": [
       "<div>\n",
       "<style scoped>\n",
       "    .dataframe tbody tr th:only-of-type {\n",
       "        vertical-align: middle;\n",
       "    }\n",
       "\n",
       "    .dataframe tbody tr th {\n",
       "        vertical-align: top;\n",
       "    }\n",
       "\n",
       "    .dataframe thead th {\n",
       "        text-align: right;\n",
       "    }\n",
       "</style>\n",
       "<table border=\"1\" class=\"dataframe\">\n",
       "  <thead>\n",
       "    <tr style=\"text-align: right;\">\n",
       "      <th></th>\n",
       "      <th>artist_name</th>\n",
       "      <th>title</th>\n",
       "      <th>duration</th>\n",
       "    </tr>\n",
       "  </thead>\n",
       "  <tbody>\n",
       "    <tr>\n",
       "      <th>3</th>\n",
       "      <td>Gob</td>\n",
       "      <td>Face the Ashes</td>\n",
       "      <td>209.60608</td>\n",
       "    </tr>\n",
       "    <tr>\n",
       "      <th>12</th>\n",
       "      <td>Blue Rodeo</td>\n",
       "      <td>Floating</td>\n",
       "      <td>491.12771</td>\n",
       "    </tr>\n",
       "    <tr>\n",
       "      <th>16</th>\n",
       "      <td>Jimmy Wakely</td>\n",
       "      <td>Broken-Down Merry-Go-Round</td>\n",
       "      <td>151.84934</td>\n",
       "    </tr>\n",
       "    <tr>\n",
       "      <th>20</th>\n",
       "      <td>Lionel Richie</td>\n",
       "      <td>Tonight Will Be Alright</td>\n",
       "      <td>307.3824</td>\n",
       "    </tr>\n",
       "    <tr>\n",
       "      <th>29</th>\n",
       "      <td>Elena</td>\n",
       "      <td>Setanta matins</td>\n",
       "      <td>269.58322</td>\n",
       "    </tr>\n",
       "    <tr>\n",
       "      <th>43</th>\n",
       "      <td>Trafik</td>\n",
       "      <td>Salt In NYC</td>\n",
       "      <td>424.12363</td>\n",
       "    </tr>\n",
       "    <tr>\n",
       "      <th>54</th>\n",
       "      <td>Tom Petty</td>\n",
       "      <td>A Higher Place (Album Version)</td>\n",
       "      <td>236.17261</td>\n",
       "    </tr>\n",
       "    <tr>\n",
       "      <th>62</th>\n",
       "      <td>Gwen Stefani</td>\n",
       "      <td>Harajuku Girls</td>\n",
       "      <td>290.55955</td>\n",
       "    </tr>\n",
       "    <tr>\n",
       "      <th>67</th>\n",
       "      <td>Lupe Fiasco</td>\n",
       "      <td>Streets On Fire (Explicit Album Version)</td>\n",
       "      <td>279.97995</td>\n",
       "    </tr>\n",
       "    <tr>\n",
       "      <th>68</th>\n",
       "      <td>Line Renaud</td>\n",
       "      <td>Der Kleine Dompfaff</td>\n",
       "      <td>152.92036</td>\n",
       "    </tr>\n",
       "    <tr>\n",
       "      <th>69</th>\n",
       "      <td>Sophie B. Hawkins</td>\n",
       "      <td>The Ballad Of Sleeping Beauty</td>\n",
       "      <td>305.162</td>\n",
       "    </tr>\n",
       "  </tbody>\n",
       "</table>\n",
       "</div>"
      ],
      "text/plain": [
       "          artist_name                                     title   duration\n",
       "3                 Gob                            Face the Ashes  209.60608\n",
       "12         Blue Rodeo                                  Floating  491.12771\n",
       "16       Jimmy Wakely                Broken-Down Merry-Go-Round  151.84934\n",
       "20      Lionel Richie                   Tonight Will Be Alright   307.3824\n",
       "29              Elena                            Setanta matins  269.58322\n",
       "43             Trafik                               Salt In NYC  424.12363\n",
       "54          Tom Petty            A Higher Place (Album Version)  236.17261\n",
       "62       Gwen Stefani                            Harajuku Girls  290.55955\n",
       "67        Lupe Fiasco  Streets On Fire (Explicit Album Version)  279.97995\n",
       "68        Line Renaud                       Der Kleine Dompfaff  152.92036\n",
       "69  Sophie B. Hawkins             The Ballad Of Sleeping Beauty    305.162"
      ]
     },
     "execution_count": 22,
     "metadata": {},
     "output_type": "execute_result"
    }
   ],
   "source": [
    "df_songs.loc[df_songs[\"artist_name\"].isin(list(artists_intersection)), [\"artist_name\", \"title\", \"duration\"]]"
   ]
  },
  {
   "cell_type": "code",
   "execution_count": 23,
   "metadata": {},
   "outputs": [
    {
     "ename": "SystemExit",
     "evalue": "",
     "output_type": "error",
     "traceback": [
      "An exception has occurred, use %tb to see the full traceback.\n",
      "\u001b[0;31mSystemExit\u001b[0m\n"
     ]
    },
    {
     "name": "stderr",
     "output_type": "stream",
     "text": [
      "/home/wb/gitrepos/udacity_project_data_modeling_postgres/venv/lib/python3.7/site-packages/IPython/core/interactiveshell.py:3445: UserWarning: To exit: use 'exit', 'quit', or Ctrl-D.\n",
      "  warn(\"To exit: use 'exit', 'quit', or Ctrl-D.\", stacklevel=1)\n"
     ]
    }
   ],
   "source": [
    "import sys\n",
    "sys.exit()"
   ]
  },
  {
   "cell_type": "markdown",
   "metadata": {},
   "source": [
    "## #3: `time` Table\n",
    "#### Extract Data for Time Table\n",
    "- Filter records by `NextSong` action\n",
    "- Convert the `ts` timestamp column to datetime\n",
    "  - Hint: the current timestamp is in milliseconds\n",
    "- Extract the timestamp, hour, day, week of year, month, year, and weekday from the `ts` column and set `time_data` to a list containing these values in order\n",
    "  - Hint: use pandas' [`dt` attribute](https://pandas.pydata.org/pandas-docs/stable/reference/api/pandas.Series.dt.html) to access easily datetimelike properties.\n",
    "- Specify labels for these columns and set to `column_labels`\n",
    "- Create a dataframe, `time_df,` containing the time data for this file by combining `column_labels` and `time_data` into a dictionary and converting this into a dataframe"
   ]
  },
  {
   "cell_type": "code",
   "execution_count": null,
   "metadata": {},
   "outputs": [],
   "source": [
    "# Filtering records by NextSong action, Home action doesnt have a song registered\n",
    "df_log = df_log[df_log[\"page\"]==\"NextSong\"]\n",
    "df_log.reset_index(inplace=True, drop=True)"
   ]
  },
  {
   "cell_type": "code",
   "execution_count": null,
   "metadata": {},
   "outputs": [],
   "source": [
    "\n",
    "timestamp = pd.to_datetime(df_log[\"ts\"], unit='ms').values\n",
    "hour = pd.to_datetime(df_log[\"ts\"], unit='ms').dt.hour.values\n",
    "day = pd.to_datetime(df_log[\"ts\"], unit='ms').dt.day.values\n",
    "week = pd.to_datetime(df_log[\"ts\"], unit='ms').dt.isocalendar().week.values\n",
    "month = pd.to_datetime(df_log[\"ts\"], unit='ms').dt.month.values\n",
    "year = pd.to_datetime(df_log[\"ts\"], unit='ms').dt.year.values\n",
    "weekday = pd.to_datetime(df_log[\"ts\"], unit='ms').dt.weekday.values\n",
    "\n",
    "column_labels = (\"start_time\", \"hour\", \"day\", \"week\", \"month\", \"year\", \"weekday\")\n",
    "time_data = (timestamp, hour, day, week, month, year, weekday)\n",
    "\n",
    "df_time = pd.DataFrame(dict(zip(column_labels, time_data)))\n",
    "df_time.head()"
   ]
  },
  {
   "cell_type": "markdown",
   "metadata": {},
   "source": [
    "#### Insert Records into Time Table\n",
    "Implement the `time_table_insert` query in `sql_queries.py` and run the cell below to insert records for the timestamps in this log file into the `time` table. Remember to run `create_tables.py` before running the cell below to ensure you've created/resetted the `time` table in the sparkify database."
   ]
  },
  {
   "cell_type": "code",
   "execution_count": null,
   "metadata": {},
   "outputs": [],
   "source": [
    "for i, row in df_time.iterrows():\n",
    "    cur.execute(time_table_insert, list(row))\n",
    "    conn.commit()"
   ]
  },
  {
   "cell_type": "markdown",
   "metadata": {},
   "source": [
    "Run `test.ipynb` to see if you've successfully added records to this table."
   ]
  },
  {
   "cell_type": "markdown",
   "metadata": {},
   "source": [
    "## #4: `users` Table\n",
    "#### Extract Data for Users Table\n",
    "- Select columns for user ID, first name, last name, gender and level and set to `user_df`"
   ]
  },
  {
   "cell_type": "code",
   "execution_count": null,
   "metadata": {},
   "outputs": [],
   "source": [
    "df_user = df_log[[\"userId\",\n",
    "                  \"firstName\",\n",
    "                  \"lastName\",\n",
    "                  \"gender\",\n",
    "                  \"level\"]]\\\n",
    "                .dropna(axis=0, subset=[\"userId\"])\n",
    "\n",
    "df_user[\"userId\"] = df_user[\"userId\"].astype(int)\n",
    "df_user.drop_duplicates(subset=\"userId\", inplace=True)\n",
    "df_user.head(1)"
   ]
  },
  {
   "cell_type": "markdown",
   "metadata": {},
   "source": [
    "#### Insert Records into Users Table\n",
    "Implement the `user_table_insert` query in `sql_queries.py` and run the cell below to insert records for the users in this log file into the `users` table. Remember to run `create_tables.py` before running the cell below to ensure you've created/resetted the `users` table in the sparkify database."
   ]
  },
  {
   "cell_type": "code",
   "execution_count": null,
   "metadata": {},
   "outputs": [],
   "source": [
    "df_user.head(5)"
   ]
  },
  {
   "cell_type": "code",
   "execution_count": null,
   "metadata": {},
   "outputs": [],
   "source": [
    "for i, row in df_user.iterrows():\n",
    "    cur.execute(user_table_insert, row)\n",
    "    conn.commit()"
   ]
  },
  {
   "cell_type": "markdown",
   "metadata": {},
   "source": [
    "Run `test.ipynb` to see if you've successfully added records to this table."
   ]
  },
  {
   "cell_type": "markdown",
   "metadata": {},
   "source": [
    "## #5: `songplays` Table\n",
    "#### Extract Data and Songplays Table\n",
    "This one is a little more complicated since information from the songs table, artists table, and original log file are all needed for the `songplays` table. Since the log file does not specify an ID for either the song or the artist, you'll need to get the song ID and artist ID by querying the songs and artists tables to find matches based on song title, artist name, and song duration time.\n",
    "- Implement the `song_select` query in `sql_queries.py` to find the song ID and artist ID based on the title, artist name, and duration of a song.\n",
    "- Select the timestamp, user ID, level, song ID, artist ID, session ID, location, and user agent and set to `songplay_data`\n",
    "\n",
    "#### Insert Records into Songplays Table\n",
    "- Implement the `songplay_table_insert` query and run the cell below to insert records for the songplay actions in this log file into the `songplays` table. Remember to run `create_tables.py` before running the cell below to ensure you've created/resetted the `songplays` table in the sparkify database."
   ]
  },
  {
   "cell_type": "code",
   "execution_count": null,
   "metadata": {},
   "outputs": [],
   "source": [
    "for index, row in df_log.iterrows():\n",
    "\n",
    "    # get songid and artistid from song and artist tables\n",
    "#     cur.execute(song_select, (row.song, row.artist, row.length))\n",
    "    cur.execute(song_select, (row.song, row.artist))\n",
    "    results = cur.fetchone()\n",
    "    \n",
    "    if results:\n",
    "        songid, artistid = results\n",
    "    else:\n",
    "        songid, artistid = None, None\n",
    "\n",
    "    if songid:\n",
    "        print(f\"songname: {row.song}, songid:{songid}, artistid: {artistid}\")\n",
    "    elif artistid:\n",
    "        print(f\"songname: {row.song}, songid:{songid}, artistid: {artistid}\")\n",
    "        \n",
    "    # insert songplay record\n",
    "    timestamp = pd.to_datetime(row.ts, unit='ms')\n",
    "    songplay_data = (timestamp,\n",
    "                     row.userId,\n",
    "                     row.level,\n",
    "                     songid,\n",
    "                     artistid,\n",
    "                     row.sessionId,\n",
    "                     row.location,\n",
    "                     row.userAgent)\n",
    "    cur.execute(songplay_table_insert, songplay_data)\n",
    "    conn.commit()"
   ]
  },
  {
   "cell_type": "code",
   "execution_count": null,
   "metadata": {},
   "outputs": [],
   "source": [
    "# import sys\n",
    "# sys.exit()\n",
    "\n",
    "# cur.close()\n",
    "# conn.close()"
   ]
  },
  {
   "cell_type": "markdown",
   "metadata": {},
   "source": [
    "Run `test.ipynb` to see if you've successfully added records to this table."
   ]
  },
  {
   "cell_type": "markdown",
   "metadata": {},
   "source": [
    "# Close Connection to Sparkify Database"
   ]
  },
  {
   "cell_type": "code",
   "execution_count": null,
   "metadata": {},
   "outputs": [],
   "source": [
    "cur.close()\n",
    "conn.close()"
   ]
  },
  {
   "cell_type": "markdown",
   "metadata": {},
   "source": [
    "# Implement `etl.py`\n",
    "Use what you've completed in this notebook to implement `etl.py`."
   ]
  }
 ],
 "metadata": {
  "kernelspec": {
   "display_name": "venv",
   "language": "python",
   "name": "venv"
  },
  "language_info": {
   "codemirror_mode": {
    "name": "ipython",
    "version": 3
   },
   "file_extension": ".py",
   "mimetype": "text/x-python",
   "name": "python",
   "nbconvert_exporter": "python",
   "pygments_lexer": "ipython3",
   "version": "3.7.10"
  }
 },
 "nbformat": 4,
 "nbformat_minor": 2
}
