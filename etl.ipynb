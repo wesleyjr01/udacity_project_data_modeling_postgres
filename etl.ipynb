{
 "cells": [
  {
   "cell_type": "markdown",
   "metadata": {},
   "source": [
    "# ETL Processes\n",
    "Use this notebook to develop the ETL process for each of your tables before completing the `etl.py` file to load the whole datasets."
   ]
  },
  {
   "cell_type": "code",
   "execution_count": 1,
   "metadata": {},
   "outputs": [],
   "source": [
    "import os\n",
    "import glob\n",
    "import numpy as np\n",
    "import psycopg2\n",
    "import pandas as pd\n",
    "from sql_queries import *\n",
    "from psycopg2.extensions import register_adapter"
   ]
  },
  {
   "cell_type": "code",
   "execution_count": 2,
   "metadata": {},
   "outputs": [],
   "source": [
    "# Delete and Create all tables before re-running this ETL experiment\n",
    "import create_tables\n",
    "create_tables.main()"
   ]
  },
  {
   "cell_type": "code",
   "execution_count": 3,
   "metadata": {},
   "outputs": [],
   "source": [
    "# Import helper functions from utils module\n",
    "from utils import (addapt_numpy_float64,\n",
    "                   addapt_numpy_int64,\n",
    "                   get_files,\n",
    "                   build_df_from_multiple_filepaths)\n",
    "\n",
    "# numpy datatypes registered into psycopg2\n",
    "register_adapter(np.float64, addapt_numpy_float64)\n",
    "register_adapter(np.int64, addapt_numpy_int64)"
   ]
  },
  {
   "cell_type": "code",
   "execution_count": 4,
   "metadata": {},
   "outputs": [],
   "source": [
    "conn = psycopg2.connect(\"host=127.0.0.1 dbname=sparkifydb user=student password=student\")\n",
    "cur = conn.cursor()"
   ]
  },
  {
   "cell_type": "markdown",
   "metadata": {},
   "source": [
    "# Process `song_data`\n",
    "In this first part, you'll perform ETL on the first dataset, `song_data`, to create the `songs` and `artists` dimensional tables.\n",
    "\n",
    "Let's perform ETL on a single song file and load a single record into each table to start.\n",
    "- Use the `get_files` function provided above to get a list of all song JSON files in `data/song_data`\n",
    "- Select the first song in this list\n",
    "- Read the song file and view the data"
   ]
  },
  {
   "cell_type": "code",
   "execution_count": 5,
   "metadata": {},
   "outputs": [
    {
     "data": {
      "text/plain": [
       "['/home/wb/gitrepos/udacity_project_data_modeling_postgres/data/song_data/A/A/C/TRAACTB12903CAAF15.json',\n",
       " '/home/wb/gitrepos/udacity_project_data_modeling_postgres/data/song_data/A/A/C/TRAACER128F4290F96.json',\n",
       " '/home/wb/gitrepos/udacity_project_data_modeling_postgres/data/song_data/A/A/C/TRAACSL128F93462F4.json',\n",
       " '/home/wb/gitrepos/udacity_project_data_modeling_postgres/data/song_data/A/A/C/TRAACNS128F14A2DF5.json',\n",
       " '/home/wb/gitrepos/udacity_project_data_modeling_postgres/data/song_data/A/A/C/TRAACQT128F9331780.json',\n",
       " '/home/wb/gitrepos/udacity_project_data_modeling_postgres/data/song_data/A/A/C/TRAACPE128F421C1B9.json',\n",
       " '/home/wb/gitrepos/udacity_project_data_modeling_postgres/data/song_data/A/A/C/TRAACOW128F933E35F.json',\n",
       " '/home/wb/gitrepos/udacity_project_data_modeling_postgres/data/song_data/A/A/C/TRAACCG128F92E8A55.json',\n",
       " '/home/wb/gitrepos/udacity_project_data_modeling_postgres/data/song_data/A/A/C/TRAACIW12903CC0F6D.json',\n",
       " '/home/wb/gitrepos/udacity_project_data_modeling_postgres/data/song_data/A/A/C/TRAACFV128F935E50B.json']"
      ]
     },
     "execution_count": 5,
     "metadata": {},
     "output_type": "execute_result"
    }
   ],
   "source": [
    "song_files = (get_files(filepath='data/song_data'))\n",
    "song_files[:10]"
   ]
  },
  {
   "cell_type": "code",
   "execution_count": 6,
   "metadata": {},
   "outputs": [
    {
     "data": {
      "text/html": [
       "<div>\n",
       "<style scoped>\n",
       "    .dataframe tbody tr th:only-of-type {\n",
       "        vertical-align: middle;\n",
       "    }\n",
       "\n",
       "    .dataframe tbody tr th {\n",
       "        vertical-align: top;\n",
       "    }\n",
       "\n",
       "    .dataframe thead th {\n",
       "        text-align: right;\n",
       "    }\n",
       "</style>\n",
       "<table border=\"1\" class=\"dataframe\">\n",
       "  <thead>\n",
       "    <tr style=\"text-align: right;\">\n",
       "      <th></th>\n",
       "      <th>num_songs</th>\n",
       "      <th>artist_id</th>\n",
       "      <th>artist_latitude</th>\n",
       "      <th>artist_longitude</th>\n",
       "      <th>artist_location</th>\n",
       "      <th>artist_name</th>\n",
       "      <th>song_id</th>\n",
       "      <th>title</th>\n",
       "      <th>duration</th>\n",
       "      <th>year</th>\n",
       "    </tr>\n",
       "  </thead>\n",
       "  <tbody>\n",
       "    <tr>\n",
       "      <th>0</th>\n",
       "      <td>1</td>\n",
       "      <td>AR0RCMP1187FB3F427</td>\n",
       "      <td>30.08615</td>\n",
       "      <td>-94.10158</td>\n",
       "      <td>Beaumont, TX</td>\n",
       "      <td>Billie Jo Spears</td>\n",
       "      <td>SOGXHEG12AB018653E</td>\n",
       "      <td>It Makes No Difference Now</td>\n",
       "      <td>133.32853</td>\n",
       "      <td>1992</td>\n",
       "    </tr>\n",
       "    <tr>\n",
       "      <th>1</th>\n",
       "      <td>1</td>\n",
       "      <td>ARMAC4T1187FB3FA4C</td>\n",
       "      <td>40.82624</td>\n",
       "      <td>-74.47995</td>\n",
       "      <td>Morris Plains, NJ</td>\n",
       "      <td>The Dillinger Escape Plan</td>\n",
       "      <td>SOBBUGU12A8C13E95D</td>\n",
       "      <td>Setting Fire to Sleeping Giants</td>\n",
       "      <td>207.77751</td>\n",
       "      <td>2004</td>\n",
       "    </tr>\n",
       "    <tr>\n",
       "      <th>2</th>\n",
       "      <td>1</td>\n",
       "      <td>ARAJPHH1187FB5566A</td>\n",
       "      <td>40.70380</td>\n",
       "      <td>-73.83168</td>\n",
       "      <td>Queens, NY</td>\n",
       "      <td>The Shangri-Las</td>\n",
       "      <td>SOYTPEP12AB0180E7B</td>\n",
       "      <td>Twist and Shout</td>\n",
       "      <td>164.80608</td>\n",
       "      <td>1964</td>\n",
       "    </tr>\n",
       "    <tr>\n",
       "      <th>3</th>\n",
       "      <td>1</td>\n",
       "      <td>AROUOZZ1187B9ABE51</td>\n",
       "      <td>40.79195</td>\n",
       "      <td>-73.94512</td>\n",
       "      <td>New York, NY [Spanish Harlem]</td>\n",
       "      <td>Willie Bobo</td>\n",
       "      <td>SOBZBAZ12A6D4F8742</td>\n",
       "      <td>Spanish Grease</td>\n",
       "      <td>168.25424</td>\n",
       "      <td>1997</td>\n",
       "    </tr>\n",
       "    <tr>\n",
       "      <th>4</th>\n",
       "      <td>1</td>\n",
       "      <td>AR1Y2PT1187FB5B9CE</td>\n",
       "      <td>27.94017</td>\n",
       "      <td>-82.32547</td>\n",
       "      <td>Brandon</td>\n",
       "      <td>John Wesley</td>\n",
       "      <td>SOLLHMX12AB01846DC</td>\n",
       "      <td>The Emperor Falls</td>\n",
       "      <td>484.62322</td>\n",
       "      <td>0</td>\n",
       "    </tr>\n",
       "  </tbody>\n",
       "</table>\n",
       "</div>"
      ],
      "text/plain": [
       "   num_songs           artist_id  artist_latitude  artist_longitude  \\\n",
       "0          1  AR0RCMP1187FB3F427         30.08615         -94.10158   \n",
       "1          1  ARMAC4T1187FB3FA4C         40.82624         -74.47995   \n",
       "2          1  ARAJPHH1187FB5566A         40.70380         -73.83168   \n",
       "3          1  AROUOZZ1187B9ABE51         40.79195         -73.94512   \n",
       "4          1  AR1Y2PT1187FB5B9CE         27.94017         -82.32547   \n",
       "\n",
       "                 artist_location                artist_name  \\\n",
       "0                   Beaumont, TX           Billie Jo Spears   \n",
       "1              Morris Plains, NJ  The Dillinger Escape Plan   \n",
       "2                     Queens, NY            The Shangri-Las   \n",
       "3  New York, NY [Spanish Harlem]                Willie Bobo   \n",
       "4                        Brandon                John Wesley   \n",
       "\n",
       "              song_id                            title   duration  year  \n",
       "0  SOGXHEG12AB018653E       It Makes No Difference Now  133.32853  1992  \n",
       "1  SOBBUGU12A8C13E95D  Setting Fire to Sleeping Giants  207.77751  2004  \n",
       "2  SOYTPEP12AB0180E7B                  Twist and Shout  164.80608  1964  \n",
       "3  SOBZBAZ12A6D4F8742                   Spanish Grease  168.25424  1997  \n",
       "4  SOLLHMX12AB01846DC                The Emperor Falls  484.62322     0  "
      ]
     },
     "execution_count": 6,
     "metadata": {},
     "output_type": "execute_result"
    }
   ],
   "source": [
    "df_songs = build_df_from_multiple_filepaths(filepaths=song_files)\n",
    "df_songs.head()"
   ]
  },
  {
   "cell_type": "code",
   "execution_count": 7,
   "metadata": {},
   "outputs": [
    {
     "data": {
      "text/plain": [
       "(71, 10)"
      ]
     },
     "execution_count": 7,
     "metadata": {},
     "output_type": "execute_result"
    }
   ],
   "source": [
    "df_songs.shape"
   ]
  },
  {
   "cell_type": "markdown",
   "metadata": {},
   "source": [
    "## #1: `artists` Table\n",
    "---\n",
    "This table must be created first since it has no foreign key dependency.\n",
    "\n",
    "#### Extract Data for Artists Table\n",
    "- Select columns for artist ID, name, location, latitude, and longitude\n",
    "- Use `df.values` to select just the values from the dataframe\n",
    "- Index to select the first (only) record in the dataframe\n",
    "- Convert the array to a list and set it to `artist_data`"
   ]
  },
  {
   "cell_type": "code",
   "execution_count": 8,
   "metadata": {},
   "outputs": [
    {
     "data": {
      "text/plain": [
       "69"
      ]
     },
     "execution_count": 8,
     "metadata": {},
     "output_type": "execute_result"
    }
   ],
   "source": [
    "df_songs[\"artist_id\"].nunique()"
   ]
  },
  {
   "cell_type": "code",
   "execution_count": 9,
   "metadata": {},
   "outputs": [
    {
     "data": {
      "text/html": [
       "<div>\n",
       "<style scoped>\n",
       "    .dataframe tbody tr th:only-of-type {\n",
       "        vertical-align: middle;\n",
       "    }\n",
       "\n",
       "    .dataframe tbody tr th {\n",
       "        vertical-align: top;\n",
       "    }\n",
       "\n",
       "    .dataframe thead th {\n",
       "        text-align: right;\n",
       "    }\n",
       "</style>\n",
       "<table border=\"1\" class=\"dataframe\">\n",
       "  <thead>\n",
       "    <tr style=\"text-align: right;\">\n",
       "      <th></th>\n",
       "      <th>artist_id</th>\n",
       "      <th>artist_name</th>\n",
       "      <th>artist_location</th>\n",
       "      <th>artist_latitude</th>\n",
       "      <th>artist_longitude</th>\n",
       "    </tr>\n",
       "  </thead>\n",
       "  <tbody>\n",
       "    <tr>\n",
       "      <th>0</th>\n",
       "      <td>AR0RCMP1187FB3F427</td>\n",
       "      <td>Billie Jo Spears</td>\n",
       "      <td>Beaumont, TX</td>\n",
       "      <td>30.08615</td>\n",
       "      <td>-94.10158</td>\n",
       "    </tr>\n",
       "    <tr>\n",
       "      <th>1</th>\n",
       "      <td>ARMAC4T1187FB3FA4C</td>\n",
       "      <td>The Dillinger Escape Plan</td>\n",
       "      <td>Morris Plains, NJ</td>\n",
       "      <td>40.82624</td>\n",
       "      <td>-74.47995</td>\n",
       "    </tr>\n",
       "    <tr>\n",
       "      <th>2</th>\n",
       "      <td>ARAJPHH1187FB5566A</td>\n",
       "      <td>The Shangri-Las</td>\n",
       "      <td>Queens, NY</td>\n",
       "      <td>40.70380</td>\n",
       "      <td>-73.83168</td>\n",
       "    </tr>\n",
       "    <tr>\n",
       "      <th>3</th>\n",
       "      <td>AROUOZZ1187B9ABE51</td>\n",
       "      <td>Willie Bobo</td>\n",
       "      <td>New York, NY [Spanish Harlem]</td>\n",
       "      <td>40.79195</td>\n",
       "      <td>-73.94512</td>\n",
       "    </tr>\n",
       "    <tr>\n",
       "      <th>4</th>\n",
       "      <td>AR1Y2PT1187FB5B9CE</td>\n",
       "      <td>John Wesley</td>\n",
       "      <td>Brandon</td>\n",
       "      <td>27.94017</td>\n",
       "      <td>-82.32547</td>\n",
       "    </tr>\n",
       "  </tbody>\n",
       "</table>\n",
       "</div>"
      ],
      "text/plain": [
       "            artist_id                artist_name  \\\n",
       "0  AR0RCMP1187FB3F427           Billie Jo Spears   \n",
       "1  ARMAC4T1187FB3FA4C  The Dillinger Escape Plan   \n",
       "2  ARAJPHH1187FB5566A            The Shangri-Las   \n",
       "3  AROUOZZ1187B9ABE51                Willie Bobo   \n",
       "4  AR1Y2PT1187FB5B9CE                John Wesley   \n",
       "\n",
       "                 artist_location  artist_latitude  artist_longitude  \n",
       "0                   Beaumont, TX         30.08615         -94.10158  \n",
       "1              Morris Plains, NJ         40.82624         -74.47995  \n",
       "2                     Queens, NY         40.70380         -73.83168  \n",
       "3  New York, NY [Spanish Harlem]         40.79195         -73.94512  \n",
       "4                        Brandon         27.94017         -82.32547  "
      ]
     },
     "execution_count": 9,
     "metadata": {},
     "output_type": "execute_result"
    }
   ],
   "source": [
    "df_artist = df_songs[[\"artist_id\",\n",
    "                      \"artist_name\",\n",
    "                      \"artist_location\",\n",
    "                      \"artist_latitude\",\n",
    "                      \"artist_longitude\"]]\\\n",
    "                .dropna(axis=0, subset=[\"artist_id\"])\n",
    "\n",
    "df_artist.head()"
   ]
  },
  {
   "cell_type": "code",
   "execution_count": 10,
   "metadata": {},
   "outputs": [
    {
     "data": {
      "text/plain": [
       "(71, 5)"
      ]
     },
     "execution_count": 10,
     "metadata": {},
     "output_type": "execute_result"
    }
   ],
   "source": [
    "df_artist.shape"
   ]
  },
  {
   "cell_type": "code",
   "execution_count": 11,
   "metadata": {},
   "outputs": [
    {
     "data": {
      "text/plain": [
       "69"
      ]
     },
     "execution_count": 11,
     "metadata": {},
     "output_type": "execute_result"
    }
   ],
   "source": [
    "df_songs[\"artist_id\"].nunique()"
   ]
  },
  {
   "cell_type": "markdown",
   "metadata": {},
   "source": [
    "#### Insert Record into Artist Table\n",
    "Implement the `artist_table_insert` query in `sql_queries.py` and run the cell below to insert a record for this song's artist into the `artists` table. Remember to run `create_tables.py` before running the cell below to ensure you've created/resetted the `artists` table in the sparkify database."
   ]
  },
  {
   "cell_type": "code",
   "execution_count": 12,
   "metadata": {},
   "outputs": [],
   "source": [
    "for i, row in df_artist.iterrows():\n",
    "    cur.execute(artist_table_insert, list(row))\n",
    "    conn.commit()"
   ]
  },
  {
   "cell_type": "markdown",
   "metadata": {},
   "source": [
    "Run `test.ipynb` to see if you've successfully added a record to this table."
   ]
  },
  {
   "cell_type": "markdown",
   "metadata": {},
   "source": [
    "## #2: `songs` Table\n",
    "#### Extract Data for Songs Table\n",
    "- Select columns for song ID, title, artist ID, year, and duration\n",
    "- Use `df.values` to select just the values from the dataframe\n",
    "- Index to select the first (only) record in the dataframe\n",
    "- Convert the array to a list and set it to `song_data`"
   ]
  },
  {
   "cell_type": "code",
   "execution_count": 13,
   "metadata": {},
   "outputs": [
    {
     "data": {
      "text/plain": [
       "71"
      ]
     },
     "execution_count": 13,
     "metadata": {},
     "output_type": "execute_result"
    }
   ],
   "source": [
    "df_songs[\"song_id\"].nunique()"
   ]
  },
  {
   "cell_type": "code",
   "execution_count": 14,
   "metadata": {},
   "outputs": [
    {
     "data": {
      "text/html": [
       "<div>\n",
       "<style scoped>\n",
       "    .dataframe tbody tr th:only-of-type {\n",
       "        vertical-align: middle;\n",
       "    }\n",
       "\n",
       "    .dataframe tbody tr th {\n",
       "        vertical-align: top;\n",
       "    }\n",
       "\n",
       "    .dataframe thead th {\n",
       "        text-align: right;\n",
       "    }\n",
       "</style>\n",
       "<table border=\"1\" class=\"dataframe\">\n",
       "  <thead>\n",
       "    <tr style=\"text-align: right;\">\n",
       "      <th></th>\n",
       "      <th>song_id</th>\n",
       "      <th>title</th>\n",
       "      <th>artist_id</th>\n",
       "      <th>year</th>\n",
       "      <th>duration</th>\n",
       "    </tr>\n",
       "  </thead>\n",
       "  <tbody>\n",
       "    <tr>\n",
       "      <th>0</th>\n",
       "      <td>SOGXHEG12AB018653E</td>\n",
       "      <td>It Makes No Difference Now</td>\n",
       "      <td>AR0RCMP1187FB3F427</td>\n",
       "      <td>1992</td>\n",
       "      <td>133.32853</td>\n",
       "    </tr>\n",
       "    <tr>\n",
       "      <th>1</th>\n",
       "      <td>SOBBUGU12A8C13E95D</td>\n",
       "      <td>Setting Fire to Sleeping Giants</td>\n",
       "      <td>ARMAC4T1187FB3FA4C</td>\n",
       "      <td>2004</td>\n",
       "      <td>207.77751</td>\n",
       "    </tr>\n",
       "    <tr>\n",
       "      <th>2</th>\n",
       "      <td>SOYTPEP12AB0180E7B</td>\n",
       "      <td>Twist and Shout</td>\n",
       "      <td>ARAJPHH1187FB5566A</td>\n",
       "      <td>1964</td>\n",
       "      <td>164.80608</td>\n",
       "    </tr>\n",
       "    <tr>\n",
       "      <th>3</th>\n",
       "      <td>SOBZBAZ12A6D4F8742</td>\n",
       "      <td>Spanish Grease</td>\n",
       "      <td>AROUOZZ1187B9ABE51</td>\n",
       "      <td>1997</td>\n",
       "      <td>168.25424</td>\n",
       "    </tr>\n",
       "    <tr>\n",
       "      <th>4</th>\n",
       "      <td>SOLLHMX12AB01846DC</td>\n",
       "      <td>The Emperor Falls</td>\n",
       "      <td>AR1Y2PT1187FB5B9CE</td>\n",
       "      <td>0</td>\n",
       "      <td>484.62322</td>\n",
       "    </tr>\n",
       "  </tbody>\n",
       "</table>\n",
       "</div>"
      ],
      "text/plain": [
       "              song_id                            title           artist_id  \\\n",
       "0  SOGXHEG12AB018653E       It Makes No Difference Now  AR0RCMP1187FB3F427   \n",
       "1  SOBBUGU12A8C13E95D  Setting Fire to Sleeping Giants  ARMAC4T1187FB3FA4C   \n",
       "2  SOYTPEP12AB0180E7B                  Twist and Shout  ARAJPHH1187FB5566A   \n",
       "3  SOBZBAZ12A6D4F8742                   Spanish Grease  AROUOZZ1187B9ABE51   \n",
       "4  SOLLHMX12AB01846DC                The Emperor Falls  AR1Y2PT1187FB5B9CE   \n",
       "\n",
       "   year   duration  \n",
       "0  1992  133.32853  \n",
       "1  2004  207.77751  \n",
       "2  1964  164.80608  \n",
       "3  1997  168.25424  \n",
       "4     0  484.62322  "
      ]
     },
     "execution_count": 14,
     "metadata": {},
     "output_type": "execute_result"
    }
   ],
   "source": [
    "df_songs_table = df_songs[[\"song_id\",\n",
    "                           \"title\",\n",
    "                           \"artist_id\",\n",
    "                           \"year\",\n",
    "                           \"duration\"]]\\\n",
    "                .dropna(axis=0, subset=[\"song_id\"])\n",
    "\n",
    "df_songs_table.head()"
   ]
  },
  {
   "cell_type": "markdown",
   "metadata": {},
   "source": [
    "#### Insert Record into Song Table\n",
    "Implement the `song_table_insert` query in `sql_queries.py` and run the cell below to insert a record for this song into the `songs` table. Remember to run `create_tables.py` before running the cell below to ensure you've created/resetted the `songs` table in the sparkify database."
   ]
  },
  {
   "cell_type": "code",
   "execution_count": 16,
   "metadata": {},
   "outputs": [],
   "source": [
    "for i, row in df_songs_table.iterrows():\n",
    "    cur.execute(song_table_insert, list(row))\n",
    "    conn.commit()"
   ]
  },
  {
   "cell_type": "markdown",
   "metadata": {},
   "source": [
    "Run `test.ipynb` to see if you've successfully added a record to this table."
   ]
  },
  {
   "cell_type": "markdown",
   "metadata": {},
   "source": [
    "# Process `log_data`\n",
    "In this part, you'll perform ETL on the second dataset, `log_data`, to create the `time` and `users` dimensional tables, as well as the `songplays` fact table.\n",
    "\n",
    "Let's perform ETL on a single log file and load a single record into each table.\n",
    "- Use the `get_files` function provided above to get a list of all log JSON files in `data/log_data`\n",
    "- Select the first log file in this list\n",
    "- Read the log file and view the data"
   ]
  },
  {
   "cell_type": "code",
   "execution_count": 17,
   "metadata": {},
   "outputs": [
    {
     "data": {
      "text/plain": [
       "['/home/wb/gitrepos/udacity_project_data_modeling_postgres/data/log_data/2018/11/2018-11-13-events.json',\n",
       " '/home/wb/gitrepos/udacity_project_data_modeling_postgres/data/log_data/2018/11/2018-11-12-events.json',\n",
       " '/home/wb/gitrepos/udacity_project_data_modeling_postgres/data/log_data/2018/11/2018-11-17-events.json',\n",
       " '/home/wb/gitrepos/udacity_project_data_modeling_postgres/data/log_data/2018/11/2018-11-14-events.json',\n",
       " '/home/wb/gitrepos/udacity_project_data_modeling_postgres/data/log_data/2018/11/2018-11-11-events.json']"
      ]
     },
     "execution_count": 17,
     "metadata": {},
     "output_type": "execute_result"
    }
   ],
   "source": [
    "log_files_paths = get_files(filepath='data/log_data')\n",
    "log_files_paths[:5]"
   ]
  },
  {
   "cell_type": "code",
   "execution_count": 18,
   "metadata": {},
   "outputs": [
    {
     "data": {
      "text/html": [
       "<div>\n",
       "<style scoped>\n",
       "    .dataframe tbody tr th:only-of-type {\n",
       "        vertical-align: middle;\n",
       "    }\n",
       "\n",
       "    .dataframe tbody tr th {\n",
       "        vertical-align: top;\n",
       "    }\n",
       "\n",
       "    .dataframe thead th {\n",
       "        text-align: right;\n",
       "    }\n",
       "</style>\n",
       "<table border=\"1\" class=\"dataframe\">\n",
       "  <thead>\n",
       "    <tr style=\"text-align: right;\">\n",
       "      <th></th>\n",
       "      <th>artist</th>\n",
       "      <th>auth</th>\n",
       "      <th>firstName</th>\n",
       "      <th>gender</th>\n",
       "      <th>itemInSession</th>\n",
       "      <th>lastName</th>\n",
       "      <th>length</th>\n",
       "      <th>level</th>\n",
       "      <th>location</th>\n",
       "      <th>method</th>\n",
       "      <th>page</th>\n",
       "      <th>registration</th>\n",
       "      <th>sessionId</th>\n",
       "      <th>song</th>\n",
       "      <th>status</th>\n",
       "      <th>ts</th>\n",
       "      <th>userAgent</th>\n",
       "      <th>userId</th>\n",
       "    </tr>\n",
       "  </thead>\n",
       "  <tbody>\n",
       "    <tr>\n",
       "      <th>0</th>\n",
       "      <td>None</td>\n",
       "      <td>Logged In</td>\n",
       "      <td>Kevin</td>\n",
       "      <td>M</td>\n",
       "      <td>0</td>\n",
       "      <td>Arellano</td>\n",
       "      <td>None</td>\n",
       "      <td>free</td>\n",
       "      <td>Harrisburg-Carlisle, PA</td>\n",
       "      <td>GET</td>\n",
       "      <td>Home</td>\n",
       "      <td>1540006905796.0</td>\n",
       "      <td>514</td>\n",
       "      <td>None</td>\n",
       "      <td>200</td>\n",
       "      <td>1542069417796</td>\n",
       "      <td>\"Mozilla/5.0 (Macintosh; Intel Mac OS X 10_9_4...</td>\n",
       "      <td>66</td>\n",
       "    </tr>\n",
       "    <tr>\n",
       "      <th>1</th>\n",
       "      <td>Fu</td>\n",
       "      <td>Logged In</td>\n",
       "      <td>Kevin</td>\n",
       "      <td>M</td>\n",
       "      <td>1</td>\n",
       "      <td>Arellano</td>\n",
       "      <td>280.05832</td>\n",
       "      <td>free</td>\n",
       "      <td>Harrisburg-Carlisle, PA</td>\n",
       "      <td>PUT</td>\n",
       "      <td>NextSong</td>\n",
       "      <td>1540006905796.0</td>\n",
       "      <td>514</td>\n",
       "      <td>Ja I Ty</td>\n",
       "      <td>200</td>\n",
       "      <td>1542069637796</td>\n",
       "      <td>\"Mozilla/5.0 (Macintosh; Intel Mac OS X 10_9_4...</td>\n",
       "      <td>66</td>\n",
       "    </tr>\n",
       "    <tr>\n",
       "      <th>2</th>\n",
       "      <td>None</td>\n",
       "      <td>Logged In</td>\n",
       "      <td>Maia</td>\n",
       "      <td>F</td>\n",
       "      <td>0</td>\n",
       "      <td>Burke</td>\n",
       "      <td>None</td>\n",
       "      <td>free</td>\n",
       "      <td>Houston-The Woodlands-Sugar Land, TX</td>\n",
       "      <td>GET</td>\n",
       "      <td>Home</td>\n",
       "      <td>1540676534796.0</td>\n",
       "      <td>510</td>\n",
       "      <td>None</td>\n",
       "      <td>200</td>\n",
       "      <td>1542071524796</td>\n",
       "      <td>\"Mozilla/5.0 (Windows NT 6.3; WOW64) AppleWebK...</td>\n",
       "      <td>51</td>\n",
       "    </tr>\n",
       "  </tbody>\n",
       "</table>\n",
       "</div>"
      ],
      "text/plain": [
       "  artist       auth firstName gender  itemInSession  lastName     length  \\\n",
       "0   None  Logged In     Kevin      M              0  Arellano       None   \n",
       "1     Fu  Logged In     Kevin      M              1  Arellano  280.05832   \n",
       "2   None  Logged In      Maia      F              0     Burke       None   \n",
       "\n",
       "  level                              location method      page  \\\n",
       "0  free               Harrisburg-Carlisle, PA    GET      Home   \n",
       "1  free               Harrisburg-Carlisle, PA    PUT  NextSong   \n",
       "2  free  Houston-The Woodlands-Sugar Land, TX    GET      Home   \n",
       "\n",
       "      registration  sessionId     song  status             ts  \\\n",
       "0  1540006905796.0        514     None     200  1542069417796   \n",
       "1  1540006905796.0        514  Ja I Ty     200  1542069637796   \n",
       "2  1540676534796.0        510     None     200  1542071524796   \n",
       "\n",
       "                                           userAgent userId  \n",
       "0  \"Mozilla/5.0 (Macintosh; Intel Mac OS X 10_9_4...     66  \n",
       "1  \"Mozilla/5.0 (Macintosh; Intel Mac OS X 10_9_4...     66  \n",
       "2  \"Mozilla/5.0 (Windows NT 6.3; WOW64) AppleWebK...     51  "
      ]
     },
     "execution_count": 18,
     "metadata": {},
     "output_type": "execute_result"
    }
   ],
   "source": [
    "df_log = build_df_from_multiple_filepaths(filepaths=log_files_paths)\n",
    "df_log.head(3)"
   ]
  },
  {
   "cell_type": "code",
   "execution_count": 19,
   "metadata": {},
   "outputs": [
    {
     "data": {
      "text/plain": [
       "(7302, 18)"
      ]
     },
     "execution_count": 19,
     "metadata": {},
     "output_type": "execute_result"
    }
   ],
   "source": [
    "df_log.shape"
   ]
  },
  {
   "cell_type": "code",
   "execution_count": 20,
   "metadata": {},
   "outputs": [
    {
     "data": {
      "text/plain": [
       "{'Intro', 'Setanta matins'}"
      ]
     },
     "execution_count": 20,
     "metadata": {},
     "output_type": "execute_result"
    }
   ],
   "source": [
    "# Is there any song intersection between datasets?\n",
    "songs_intersection = set(df_log[\"song\"]).intersection(set(df_songs[\"title\"]))\n",
    "songs_intersection"
   ]
  },
  {
   "cell_type": "markdown",
   "metadata": {},
   "source": [
    "## #3: `time` Table\n",
    "#### Extract Data for Time Table\n",
    "- Filter records by `NextSong` action\n",
    "- Convert the `ts` timestamp column to datetime\n",
    "  - Hint: the current timestamp is in milliseconds\n",
    "- Extract the timestamp, hour, day, week of year, month, year, and weekday from the `ts` column and set `time_data` to a list containing these values in order\n",
    "  - Hint: use pandas' [`dt` attribute](https://pandas.pydata.org/pandas-docs/stable/reference/api/pandas.Series.dt.html) to access easily datetimelike properties.\n",
    "- Specify labels for these columns and set to `column_labels`\n",
    "- Create a dataframe, `time_df,` containing the time data for this file by combining `column_labels` and `time_data` into a dictionary and converting this into a dataframe"
   ]
  },
  {
   "cell_type": "code",
   "execution_count": 21,
   "metadata": {},
   "outputs": [],
   "source": [
    "# Filtering records by NextSong action, Home action doesnt have a song registered\n",
    "df_log = df_log[df_log[\"page\"]==\"NextSong\"]\n",
    "df_log.reset_index(inplace=True, drop=True)"
   ]
  },
  {
   "cell_type": "code",
   "execution_count": 22,
   "metadata": {},
   "outputs": [
    {
     "data": {
      "text/html": [
       "<div>\n",
       "<style scoped>\n",
       "    .dataframe tbody tr th:only-of-type {\n",
       "        vertical-align: middle;\n",
       "    }\n",
       "\n",
       "    .dataframe tbody tr th {\n",
       "        vertical-align: top;\n",
       "    }\n",
       "\n",
       "    .dataframe thead th {\n",
       "        text-align: right;\n",
       "    }\n",
       "</style>\n",
       "<table border=\"1\" class=\"dataframe\">\n",
       "  <thead>\n",
       "    <tr style=\"text-align: right;\">\n",
       "      <th></th>\n",
       "      <th>start_time</th>\n",
       "      <th>hour</th>\n",
       "      <th>day</th>\n",
       "      <th>week</th>\n",
       "      <th>month</th>\n",
       "      <th>year</th>\n",
       "      <th>weekday</th>\n",
       "    </tr>\n",
       "  </thead>\n",
       "  <tbody>\n",
       "    <tr>\n",
       "      <th>0</th>\n",
       "      <td>2018-11-13 00:40:37.796</td>\n",
       "      <td>0</td>\n",
       "      <td>13</td>\n",
       "      <td>46</td>\n",
       "      <td>11</td>\n",
       "      <td>2018</td>\n",
       "      <td>1</td>\n",
       "    </tr>\n",
       "    <tr>\n",
       "      <th>1</th>\n",
       "      <td>2018-11-13 01:12:29.796</td>\n",
       "      <td>1</td>\n",
       "      <td>13</td>\n",
       "      <td>46</td>\n",
       "      <td>11</td>\n",
       "      <td>2018</td>\n",
       "      <td>1</td>\n",
       "    </tr>\n",
       "    <tr>\n",
       "      <th>2</th>\n",
       "      <td>2018-11-13 03:19:02.796</td>\n",
       "      <td>3</td>\n",
       "      <td>13</td>\n",
       "      <td>46</td>\n",
       "      <td>11</td>\n",
       "      <td>2018</td>\n",
       "      <td>1</td>\n",
       "    </tr>\n",
       "    <tr>\n",
       "      <th>3</th>\n",
       "      <td>2018-11-13 03:51:52.796</td>\n",
       "      <td>3</td>\n",
       "      <td>13</td>\n",
       "      <td>46</td>\n",
       "      <td>11</td>\n",
       "      <td>2018</td>\n",
       "      <td>1</td>\n",
       "    </tr>\n",
       "    <tr>\n",
       "      <th>4</th>\n",
       "      <td>2018-11-13 05:00:06.796</td>\n",
       "      <td>5</td>\n",
       "      <td>13</td>\n",
       "      <td>46</td>\n",
       "      <td>11</td>\n",
       "      <td>2018</td>\n",
       "      <td>1</td>\n",
       "    </tr>\n",
       "  </tbody>\n",
       "</table>\n",
       "</div>"
      ],
      "text/plain": [
       "               start_time  hour  day  week  month  year  weekday\n",
       "0 2018-11-13 00:40:37.796     0   13    46     11  2018        1\n",
       "1 2018-11-13 01:12:29.796     1   13    46     11  2018        1\n",
       "2 2018-11-13 03:19:02.796     3   13    46     11  2018        1\n",
       "3 2018-11-13 03:51:52.796     3   13    46     11  2018        1\n",
       "4 2018-11-13 05:00:06.796     5   13    46     11  2018        1"
      ]
     },
     "execution_count": 22,
     "metadata": {},
     "output_type": "execute_result"
    }
   ],
   "source": [
    "timestamp = pd.to_datetime(df_log[\"ts\"], unit='ms').values\n",
    "hour = pd.to_datetime(df_log[\"ts\"], unit='ms').dt.hour.values\n",
    "day = pd.to_datetime(df_log[\"ts\"], unit='ms').dt.day.values\n",
    "week = pd.to_datetime(df_log[\"ts\"], unit='ms').dt.isocalendar().week.values\n",
    "month = pd.to_datetime(df_log[\"ts\"], unit='ms').dt.month.values\n",
    "year = pd.to_datetime(df_log[\"ts\"], unit='ms').dt.year.values\n",
    "weekday = pd.to_datetime(df_log[\"ts\"], unit='ms').dt.weekday.values\n",
    "\n",
    "column_labels = (\"start_time\", \"hour\", \"day\", \"week\", \"month\", \"year\", \"weekday\")\n",
    "time_data = (timestamp, hour, day, week, month, year, weekday)\n",
    "\n",
    "df_time = pd.DataFrame(dict(zip(column_labels, time_data)))\n",
    "df_time.head()"
   ]
  },
  {
   "cell_type": "markdown",
   "metadata": {},
   "source": [
    "#### Insert Records into Time Table\n",
    "Implement the `time_table_insert` query in `sql_queries.py` and run the cell below to insert records for the timestamps in this log file into the `time` table. Remember to run `create_tables.py` before running the cell below to ensure you've created/resetted the `time` table in the sparkify database."
   ]
  },
  {
   "cell_type": "code",
   "execution_count": 23,
   "metadata": {},
   "outputs": [],
   "source": [
    "for i, row in df_time.iterrows():\n",
    "    cur.execute(time_table_insert, list(row))\n",
    "    conn.commit()"
   ]
  },
  {
   "cell_type": "markdown",
   "metadata": {},
   "source": [
    "Run `test.ipynb` to see if you've successfully added records to this table."
   ]
  },
  {
   "cell_type": "markdown",
   "metadata": {},
   "source": [
    "## #4: `users` Table\n",
    "#### Extract Data for Users Table\n",
    "- Select columns for user ID, first name, last name, gender and level and set to `user_df`"
   ]
  },
  {
   "cell_type": "code",
   "execution_count": 24,
   "metadata": {},
   "outputs": [
    {
     "data": {
      "text/html": [
       "<div>\n",
       "<style scoped>\n",
       "    .dataframe tbody tr th:only-of-type {\n",
       "        vertical-align: middle;\n",
       "    }\n",
       "\n",
       "    .dataframe tbody tr th {\n",
       "        vertical-align: top;\n",
       "    }\n",
       "\n",
       "    .dataframe thead th {\n",
       "        text-align: right;\n",
       "    }\n",
       "</style>\n",
       "<table border=\"1\" class=\"dataframe\">\n",
       "  <thead>\n",
       "    <tr style=\"text-align: right;\">\n",
       "      <th></th>\n",
       "      <th>userId</th>\n",
       "      <th>firstName</th>\n",
       "      <th>lastName</th>\n",
       "      <th>gender</th>\n",
       "      <th>level</th>\n",
       "    </tr>\n",
       "  </thead>\n",
       "  <tbody>\n",
       "    <tr>\n",
       "      <th>0</th>\n",
       "      <td>66</td>\n",
       "      <td>Kevin</td>\n",
       "      <td>Arellano</td>\n",
       "      <td>M</td>\n",
       "      <td>free</td>\n",
       "    </tr>\n",
       "  </tbody>\n",
       "</table>\n",
       "</div>"
      ],
      "text/plain": [
       "   userId firstName  lastName gender level\n",
       "0      66     Kevin  Arellano      M  free"
      ]
     },
     "execution_count": 24,
     "metadata": {},
     "output_type": "execute_result"
    }
   ],
   "source": [
    "df_user = df_log[[\"userId\",\n",
    "                  \"firstName\",\n",
    "                  \"lastName\",\n",
    "                  \"gender\",\n",
    "                  \"level\"]]\\\n",
    "                .dropna(axis=0, subset=[\"userId\"])\n",
    "\n",
    "df_user[\"userId\"] = df_user[\"userId\"].astype(int)\n",
    "df_user.head(1)"
   ]
  },
  {
   "cell_type": "markdown",
   "metadata": {},
   "source": [
    "#### Insert Records into Users Table\n",
    "Implement the `user_table_insert` query in `sql_queries.py` and run the cell below to insert records for the users in this log file into the `users` table. Remember to run `create_tables.py` before running the cell below to ensure you've created/resetted the `users` table in the sparkify database."
   ]
  },
  {
   "cell_type": "code",
   "execution_count": 25,
   "metadata": {},
   "outputs": [],
   "source": [
    "for i, row in df_user.iterrows():\n",
    "    cur.execute(user_table_insert, row)\n",
    "    conn.commit()"
   ]
  },
  {
   "cell_type": "markdown",
   "metadata": {},
   "source": [
    "Run `test.ipynb` to see if you've successfully added records to this table."
   ]
  },
  {
   "cell_type": "markdown",
   "metadata": {},
   "source": [
    "## #5: `songplays` Table\n",
    "#### Extract Data and Songplays Table\n",
    "This one is a little more complicated since information from the songs table, artists table, and original log file are all needed for the `songplays` table. Since the log file does not specify an ID for either the song or the artist, you'll need to get the song ID and artist ID by querying the songs and artists tables to find matches based on song title, artist name, and song duration time.\n",
    "- Implement the `song_select` query in `sql_queries.py` to find the song ID and artist ID based on the title, artist name, and duration of a song.\n",
    "- Select the timestamp, user ID, level, song ID, artist ID, session ID, location, and user agent and set to `songplay_data`\n",
    "\n",
    "#### Insert Records into Songplays Table\n",
    "- Implement the `songplay_table_insert` query and run the cell below to insert records for the songplay actions in this log file into the `songplays` table. Remember to run `create_tables.py` before running the cell below to ensure you've created/resetted the `songplays` table in the sparkify database."
   ]
  },
  {
   "cell_type": "code",
   "execution_count": 26,
   "metadata": {},
   "outputs": [],
   "source": [
    "for index, row in df_log.iterrows():\n",
    "\n",
    "    # get songid and artistid from song and artist tables\n",
    "    cur.execute(song_select, (row.song, row.artist, row.length))\n",
    "    results = cur.fetchone()\n",
    "    \n",
    "    if results:\n",
    "        songid, artistid = results\n",
    "    else:\n",
    "        songid, artistid = None, None\n",
    "        \n",
    "    # insert songplay record\n",
    "    timestamp = pd.to_datetime(row.ts, unit='ms')\n",
    "    songplay_data = (timestamp,\n",
    "                     row.userId,\n",
    "                     row.level,\n",
    "                     songid,\n",
    "                     artistid,\n",
    "                     row.sessionId,\n",
    "                     row.location,\n",
    "                     row.userAgent)\n",
    "    cur.execute(songplay_table_insert, songplay_data)\n",
    "    conn.commit()"
   ]
  },
  {
   "cell_type": "markdown",
   "metadata": {},
   "source": [
    "Run `test.ipynb` to see if you've successfully added records to this table."
   ]
  },
  {
   "cell_type": "markdown",
   "metadata": {},
   "source": [
    "# Close Connection to Sparkify Database"
   ]
  },
  {
   "cell_type": "code",
   "execution_count": 27,
   "metadata": {},
   "outputs": [],
   "source": [
    "cur.close()\n",
    "conn.close()"
   ]
  },
  {
   "cell_type": "markdown",
   "metadata": {},
   "source": [
    "# Implement `etl.py`\n",
    "Use what you've completed in this notebook to implement `etl.py`."
   ]
  }
 ],
 "metadata": {
  "kernelspec": {
   "display_name": "venv",
   "language": "python",
   "name": "venv"
  },
  "language_info": {
   "codemirror_mode": {
    "name": "ipython",
    "version": 3
   },
   "file_extension": ".py",
   "mimetype": "text/x-python",
   "name": "python",
   "nbconvert_exporter": "python",
   "pygments_lexer": "ipython3",
   "version": "3.7.10"
  }
 },
 "nbformat": 4,
 "nbformat_minor": 2
}
