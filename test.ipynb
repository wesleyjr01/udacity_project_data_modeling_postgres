{
 "cells": [
  {
   "cell_type": "code",
   "execution_count": 1,
   "metadata": {},
   "outputs": [],
   "source": [
    "import psycopg2"
   ]
  },
  {
   "cell_type": "code",
   "execution_count": 2,
   "metadata": {},
   "outputs": [],
   "source": [
    "# Connect to database sparkifydb\n",
    "try: \n",
    "    conn = psycopg2.connect(\"host=127.0.0.1 dbname=sparkifydb user=student password=student\")\n",
    "except psycopg2.Error as e: \n",
    "    print(\"Error: Could not make connection to the Postgres database\")\n",
    "    print(e)\n",
    "try: \n",
    "    cur = conn.cursor()\n",
    "except psycopg2.Error as e: \n",
    "    print(\"Error: Could not get curser to the Database\")\n",
    "    print(e)\n",
    "conn.set_session(autocommit=True)"
   ]
  },
  {
   "cell_type": "code",
   "execution_count": 3,
   "metadata": {},
   "outputs": [
    {
     "data": {
      "text/plain": [
       "True"
      ]
     },
     "execution_count": 3,
     "metadata": {},
     "output_type": "execute_result"
    }
   ],
   "source": [
    "# Does table songplays exists?\n",
    "cur.execute(\"select exists(select * from information_schema.tables where table_name=%s)\", ('songplays',))\n",
    "cur.fetchone()[0]"
   ]
  },
  {
   "cell_type": "code",
   "execution_count": 4,
   "metadata": {},
   "outputs": [
    {
     "name": "stdout",
     "output_type": "stream",
     "text": [
      "(1, datetime.datetime(2018, 11, 13, 0, 40, 37, 796000), 66, 'free', None, None, 514, 'Harrisburg-Carlisle, PA', '\"Mozilla/5.0 (Macintosh; Intel Mac OS X 10_9_4) AppleWebKit/537.36 (KHTML, like Gecko) Chrome/36.0.1985.125 Safari/537.36\"')\n",
      "(2, datetime.datetime(2018, 11, 13, 1, 12, 29, 796000), 51, 'free', None, None, 510, 'Houston-The Woodlands-Sugar Land, TX', '\"Mozilla/5.0 (Windows NT 6.3; WOW64) AppleWebKit/537.36 (KHTML, like Gecko) Chrome/36.0.1985.143 Safari/537.36\"')\n",
      "(3, datetime.datetime(2018, 11, 13, 3, 19, 2, 796000), 9, 'free', None, None, 379, 'Eureka-Arcata-Fortuna, CA', 'Mozilla/5.0 (Windows NT 6.1; WOW64; Trident/7.0; rv:11.0) like Gecko')\n",
      "(4, datetime.datetime(2018, 11, 13, 3, 51, 52, 796000), 49, 'free', None, None, 506, 'San Francisco-Oakland-Hayward, CA', 'Mozilla/5.0 (Windows NT 5.1; rv:31.0) Gecko/20100101 Firefox/31.0')\n",
      "(5, datetime.datetime(2018, 11, 13, 5, 0, 6, 796000), 94, 'free', None, None, 492, 'Ogden-Clearfield, UT', 'Mozilla/5.0 (Windows NT 6.1; WOW64; rv:32.0) Gecko/20100101 Firefox/32.0')\n"
     ]
    }
   ],
   "source": [
    "# Print first 5 elements of table songplays\n",
    "cur.execute(\"select * FROM songplays LIMIT 5;\")\n",
    "rows = cur.fetchall()\n",
    "for row in rows:\n",
    "    print(row)"
   ]
  },
  {
   "cell_type": "code",
   "execution_count": 5,
   "metadata": {},
   "outputs": [],
   "source": [
    "#test\n",
    "# Print first 5 elements of table songplays\n",
    "cur.execute(\"select song_id, artist_id  FROM songplays WHERE artist_id IS NOT NULL;\")\n",
    "rows = cur.fetchall()\n",
    "for row in rows:\n",
    "    print(row)"
   ]
  },
  {
   "cell_type": "code",
   "execution_count": 6,
   "metadata": {},
   "outputs": [
    {
     "name": "stdout",
     "output_type": "stream",
     "text": [
      "('Intro', 76, '40 Grit')\n"
     ]
    }
   ],
   "source": [
    "#test\n",
    "# Print first 5 elements of table songplays\n",
    "cur.execute(\"SELECT songs.title, songs.duration, artists.name FROM songs \\\n",
    "                JOIN artists ON artists.artist_id = songs.artist_id \\\n",
    "                WHERE song_id=%s;\", ('SOGDBUF12A8C140FAA',))\n",
    "rows = cur.fetchall()\n",
    "for row in rows:\n",
    "    print(row)"
   ]
  },
  {
   "cell_type": "code",
   "execution_count": 7,
   "metadata": {},
   "outputs": [],
   "source": [
    "# test\n",
    "# Print first 5 elements of table songplays\n",
    "cur.execute(\"select song_id, artist_id  FROM songplays WHERE artist_id IS NOT NULL;\")\n",
    "rows = cur.fetchall()\n",
    "for row in rows:\n",
    "    print(row)"
   ]
  },
  {
   "cell_type": "code",
   "execution_count": 8,
   "metadata": {},
   "outputs": [
    {
     "data": {
      "text/plain": [
       "True"
      ]
     },
     "execution_count": 8,
     "metadata": {},
     "output_type": "execute_result"
    }
   ],
   "source": [
    "# Does table users exists?\n",
    "cur.execute(\"select exists(select * from information_schema.tables where table_name=%s)\", ('users',))\n",
    "cur.fetchone()[0]"
   ]
  },
  {
   "cell_type": "code",
   "execution_count": 9,
   "metadata": {},
   "outputs": [
    {
     "name": "stdout",
     "output_type": "stream",
     "text": [
      "(66, 'Kevin', 'Arellano', 'M', 'free')\n",
      "(51, 'Maia', 'Burke', 'F', 'free')\n",
      "(9, 'Wyatt', 'Scott', 'M', 'free')\n",
      "(49, 'Chloe', 'Cuevas', 'F', 'free')\n",
      "(94, 'Noah', 'Chavez', 'M', 'free')\n"
     ]
    }
   ],
   "source": [
    "# Print first 5 elements of table users\n",
    "cur.execute(\"select * FROM users LIMIT 5;\")\n",
    "rows = cur.fetchall()\n",
    "for row in rows:\n",
    "    print(row)"
   ]
  },
  {
   "cell_type": "code",
   "execution_count": 10,
   "metadata": {},
   "outputs": [
    {
     "data": {
      "text/plain": [
       "True"
      ]
     },
     "execution_count": 10,
     "metadata": {},
     "output_type": "execute_result"
    }
   ],
   "source": [
    "# Does table songs exists?\n",
    "cur.execute(\"select exists(select * from information_schema.tables where table_name=%s)\", ('songs',))\n",
    "cur.fetchone()[0]"
   ]
  },
  {
   "cell_type": "code",
   "execution_count": 11,
   "metadata": {},
   "outputs": [
    {
     "name": "stdout",
     "output_type": "stream",
     "text": [
      "('SOIAZJW12AB01853F1', 'Pink World', 'AR8ZCNI1187B9A069B', 1984, 270)\n",
      "('SOYMRWW12A6D4FAB14', 'The Moon And I (Ordinary Day Album Version)', 'ARKFYS91187B98E58F', 0, 268)\n",
      "('SONHOTT12A8C13493C', 'Something Girls', 'AR7G5I41187FB4CE6C', 1982, 233)\n",
      "('SOFSOCN12A8C143F5D', 'Face the Ashes', 'ARXR32B1187FB57099', 2007, 210)\n",
      "('SOMJBYD12A6D4F8557', 'Keepin It Real (Skit)', 'ARD0S291187B9B7BF5', 0, 115)\n"
     ]
    }
   ],
   "source": [
    "# Print first 5 elements of table songs\n",
    "cur.execute(\"select * FROM songs LIMIT 5;\")\n",
    "rows = cur.fetchall()\n",
    "for row in rows:\n",
    "    print(row)"
   ]
  },
  {
   "cell_type": "code",
   "execution_count": 12,
   "metadata": {},
   "outputs": [
    {
     "data": {
      "text/plain": [
       "True"
      ]
     },
     "execution_count": 12,
     "metadata": {},
     "output_type": "execute_result"
    }
   ],
   "source": [
    "# Does table artists exists?\n",
    "cur.execute(\"select exists(select * from information_schema.tables where table_name=%s)\", ('artists',))\n",
    "cur.fetchone()[0]"
   ]
  },
  {
   "cell_type": "code",
   "execution_count": 13,
   "metadata": {},
   "outputs": [
    {
     "name": "stdout",
     "output_type": "stream",
     "text": [
      "('AR8ZCNI1187B9A069B', 'Planet P Project', None, None, None)\n",
      "('ARKFYS91187B98E58F', 'Jeff And Sheri Easter', None, None, None)\n",
      "('AR7G5I41187FB4CE6C', 'Adam Ant', 'London, England', None, None)\n",
      "('ARXR32B1187FB57099', 'Gob', None, None, None)\n",
      "('ARD0S291187B9B7BF5', 'Rated R', 'Ohio', None, None)\n"
     ]
    }
   ],
   "source": [
    "# Print first 5 elements of table artists\n",
    "cur.execute(\"select * FROM artists LIMIT 5;\")\n",
    "rows = cur.fetchall()\n",
    "for row in rows:\n",
    "    print(row)"
   ]
  },
  {
   "cell_type": "code",
   "execution_count": 14,
   "metadata": {},
   "outputs": [
    {
     "data": {
      "text/plain": [
       "True"
      ]
     },
     "execution_count": 14,
     "metadata": {},
     "output_type": "execute_result"
    }
   ],
   "source": [
    "# Does table time exists?\n",
    "cur.execute(\"select exists(select * from information_schema.tables where table_name=%s)\", ('time',))\n",
    "cur.fetchone()[0]"
   ]
  },
  {
   "cell_type": "code",
   "execution_count": 15,
   "metadata": {},
   "outputs": [
    {
     "name": "stdout",
     "output_type": "stream",
     "text": [
      "(datetime.datetime(2018, 11, 13, 0, 40, 37, 796000), 0, 13, 46, 11, 2018, 1)\n",
      "(datetime.datetime(2018, 11, 13, 1, 12, 29, 796000), 1, 13, 46, 11, 2018, 1)\n",
      "(datetime.datetime(2018, 11, 13, 3, 19, 2, 796000), 3, 13, 46, 11, 2018, 1)\n",
      "(datetime.datetime(2018, 11, 13, 3, 51, 52, 796000), 3, 13, 46, 11, 2018, 1)\n",
      "(datetime.datetime(2018, 11, 13, 5, 0, 6, 796000), 5, 13, 46, 11, 2018, 1)\n"
     ]
    }
   ],
   "source": [
    "# Print first 5 elements of table time\n",
    "cur.execute(\"select * FROM time LIMIT 5;\")\n",
    "rows = cur.fetchall()\n",
    "for row in rows:\n",
    "    print(row)"
   ]
  },
  {
   "cell_type": "code",
   "execution_count": 16,
   "metadata": {},
   "outputs": [],
   "source": [
    "# Close cursor and connection to database\n",
    "cur.close()\n",
    "conn.close()"
   ]
  },
  {
   "cell_type": "markdown",
   "metadata": {},
   "source": [
    "## REMEMBER: Restart this notebook to close connection to `sparkifydb`\n",
    "Each time you run the cells above, remember to restart this notebook to close the connection to your database. Otherwise, you won't be able to run your code in `create_tables.py`, `etl.py`, or `etl.ipynb` files since you can't make multiple connections to the same database (in this case, sparkifydb)."
   ]
  }
 ],
 "metadata": {
  "kernelspec": {
   "display_name": "venv",
   "language": "python",
   "name": "venv"
  },
  "language_info": {
   "codemirror_mode": {
    "name": "ipython",
    "version": 3
   },
   "file_extension": ".py",
   "mimetype": "text/x-python",
   "name": "python",
   "nbconvert_exporter": "python",
   "pygments_lexer": "ipython3",
   "version": "3.7.10"
  }
 },
 "nbformat": 4,
 "nbformat_minor": 2
}
