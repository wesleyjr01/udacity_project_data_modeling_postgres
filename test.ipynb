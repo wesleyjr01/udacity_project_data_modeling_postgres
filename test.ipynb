{
 "cells": [
  {
   "cell_type": "code",
   "execution_count": 1,
   "metadata": {},
   "outputs": [],
   "source": [
    "import psycopg2"
   ]
  },
  {
   "cell_type": "code",
   "execution_count": 2,
   "metadata": {},
   "outputs": [],
   "source": [
    "# Connect to database sparkifydb\n",
    "try: \n",
    "    conn = psycopg2.connect(\"host=127.0.0.1 dbname=sparkifydb user=student password=student\")\n",
    "except psycopg2.Error as e: \n",
    "    print(\"Error: Could not make connection to the Postgres database\")\n",
    "    print(e)\n",
    "try: \n",
    "    cur = conn.cursor()\n",
    "except psycopg2.Error as e: \n",
    "    print(\"Error: Could not get curser to the Database\")\n",
    "    print(e)\n",
    "conn.set_session(autocommit=True)"
   ]
  },
  {
   "cell_type": "code",
   "execution_count": 3,
   "metadata": {},
   "outputs": [
    {
     "data": {
      "text/plain": [
       "True"
      ]
     },
     "execution_count": 3,
     "metadata": {},
     "output_type": "execute_result"
    }
   ],
   "source": [
    "# Does table songplays exists?\n",
    "cur.execute(\"select exists(select * from information_schema.tables where table_name=%s)\", ('songplays',))\n",
    "cur.fetchone()[0]"
   ]
  },
  {
   "cell_type": "code",
   "execution_count": 4,
   "metadata": {},
   "outputs": [
    {
     "name": "stdout",
     "output_type": "stream",
     "text": [
      "(1, datetime.datetime(2018, 11, 13, 0, 40, 37, 796000), 66, 'free', None, None, 514, 'Harrisburg-Carlisle, PA', '\"Mozilla/5.0 (Macintosh; Intel Mac OS X 10_9_4) AppleWebKit/537.36 (KHTML, like Gecko) Chrome/36.0.1985.125 Safari/537.36\"')\n",
      "(2, datetime.datetime(2018, 11, 13, 1, 12, 29, 796000), 51, 'free', None, None, 510, 'Houston-The Woodlands-Sugar Land, TX', '\"Mozilla/5.0 (Windows NT 6.3; WOW64) AppleWebKit/537.36 (KHTML, like Gecko) Chrome/36.0.1985.143 Safari/537.36\"')\n",
      "(3, datetime.datetime(2018, 11, 13, 3, 19, 2, 796000), 9, 'free', None, None, 379, 'Eureka-Arcata-Fortuna, CA', 'Mozilla/5.0 (Windows NT 6.1; WOW64; Trident/7.0; rv:11.0) like Gecko')\n",
      "(4, datetime.datetime(2018, 11, 13, 3, 51, 52, 796000), 49, 'free', None, None, 506, 'San Francisco-Oakland-Hayward, CA', 'Mozilla/5.0 (Windows NT 5.1; rv:31.0) Gecko/20100101 Firefox/31.0')\n",
      "(5, datetime.datetime(2018, 11, 13, 5, 0, 6, 796000), 94, 'free', None, None, 492, 'Ogden-Clearfield, UT', 'Mozilla/5.0 (Windows NT 6.1; WOW64; rv:32.0) Gecko/20100101 Firefox/32.0')\n"
     ]
    }
   ],
   "source": [
    "# Print first 5 elements of table songplays\n",
    "cur.execute(\"select * FROM songplays LIMIT 5;\")\n",
    "rows = cur.fetchall()\n",
    "for row in rows:\n",
    "    print(row)"
   ]
  },
  {
   "cell_type": "code",
   "execution_count": 5,
   "metadata": {},
   "outputs": [
    {
     "data": {
      "text/plain": [
       "True"
      ]
     },
     "execution_count": 5,
     "metadata": {},
     "output_type": "execute_result"
    }
   ],
   "source": [
    "# Does table users exists?\n",
    "cur.execute(\"select exists(select * from information_schema.tables where table_name=%s)\", ('users',))\n",
    "cur.fetchone()[0]"
   ]
  },
  {
   "cell_type": "code",
   "execution_count": 6,
   "metadata": {},
   "outputs": [
    {
     "name": "stdout",
     "output_type": "stream",
     "text": [
      "(66, 'Kevin', 'Arellano', 'M', 'free')\n",
      "(51, 'Maia', 'Burke', 'F', 'free')\n",
      "(9, 'Wyatt', 'Scott', 'M', 'free')\n",
      "(49, 'Chloe', 'Cuevas', 'F', 'free')\n",
      "(94, 'Noah', 'Chavez', 'M', 'free')\n"
     ]
    }
   ],
   "source": [
    "# Print first 5 elements of table users\n",
    "cur.execute(\"select * FROM users LIMIT 5;\")\n",
    "rows = cur.fetchall()\n",
    "for row in rows:\n",
    "    print(row)"
   ]
  },
  {
   "cell_type": "code",
   "execution_count": 7,
   "metadata": {},
   "outputs": [
    {
     "data": {
      "text/plain": [
       "True"
      ]
     },
     "execution_count": 7,
     "metadata": {},
     "output_type": "execute_result"
    }
   ],
   "source": [
    "# Does table songs exists?\n",
    "cur.execute(\"select exists(select * from information_schema.tables where table_name=%s)\", ('songs',))\n",
    "cur.fetchone()[0]"
   ]
  },
  {
   "cell_type": "code",
   "execution_count": 8,
   "metadata": {},
   "outputs": [
    {
     "name": "stdout",
     "output_type": "stream",
     "text": [
      "('SOGXHEG12AB018653E', 'It Makes No Difference Now', 'AR0RCMP1187FB3F427', 1992, 133)\n",
      "('SOBBUGU12A8C13E95D', 'Setting Fire to Sleeping Giants', 'ARMAC4T1187FB3FA4C', 2004, 208)\n",
      "('SOYTPEP12AB0180E7B', 'Twist and Shout', 'ARAJPHH1187FB5566A', 1964, 165)\n",
      "('SOBZBAZ12A6D4F8742', 'Spanish Grease', 'AROUOZZ1187B9ABE51', 1997, 168)\n",
      "('SOLLHMX12AB01846DC', 'The Emperor Falls', 'AR1Y2PT1187FB5B9CE', 0, 485)\n"
     ]
    }
   ],
   "source": [
    "# Print first 5 elements of table songs\n",
    "cur.execute(\"select * FROM songs LIMIT 5;\")\n",
    "rows = cur.fetchall()\n",
    "for row in rows:\n",
    "    print(row)"
   ]
  },
  {
   "cell_type": "code",
   "execution_count": 9,
   "metadata": {},
   "outputs": [
    {
     "data": {
      "text/plain": [
       "True"
      ]
     },
     "execution_count": 9,
     "metadata": {},
     "output_type": "execute_result"
    }
   ],
   "source": [
    "# Does table artists exists?\n",
    "cur.execute(\"select exists(select * from information_schema.tables where table_name=%s)\", ('artists',))\n",
    "cur.fetchone()[0]"
   ]
  },
  {
   "cell_type": "code",
   "execution_count": 10,
   "metadata": {},
   "outputs": [
    {
     "name": "stdout",
     "output_type": "stream",
     "text": [
      "('AR0RCMP1187FB3F427', 'Billie Jo Spears', 'Beaumont, TX', 30.08615, -94.10158)\n",
      "('ARMAC4T1187FB3FA4C', 'The Dillinger Escape Plan', 'Morris Plains, NJ', 40.82624, -74.47995)\n",
      "('ARAJPHH1187FB5566A', 'The Shangri-Las', 'Queens, NY', 40.7038, -73.83168)\n",
      "('AROUOZZ1187B9ABE51', 'Willie Bobo', 'New York, NY [Spanish Harlem]', 40.79195, -73.94512)\n",
      "('AR1Y2PT1187FB5B9CE', 'John Wesley', 'Brandon', 27.94017, -82.32547)\n"
     ]
    }
   ],
   "source": [
    "# Print first 5 elements of table artists\n",
    "cur.execute(\"select * FROM artists LIMIT 5;\")\n",
    "rows = cur.fetchall()\n",
    "for row in rows:\n",
    "    print(row)"
   ]
  },
  {
   "cell_type": "code",
   "execution_count": 11,
   "metadata": {},
   "outputs": [
    {
     "data": {
      "text/plain": [
       "True"
      ]
     },
     "execution_count": 11,
     "metadata": {},
     "output_type": "execute_result"
    }
   ],
   "source": [
    "# Does table time exists?\n",
    "cur.execute(\"select exists(select * from information_schema.tables where table_name=%s)\", ('time',))\n",
    "cur.fetchone()[0]"
   ]
  },
  {
   "cell_type": "code",
   "execution_count": 12,
   "metadata": {},
   "outputs": [
    {
     "name": "stdout",
     "output_type": "stream",
     "text": [
      "(datetime.datetime(2018, 11, 13, 0, 40, 37, 796000), 0, 13, 46, 11, 2018, 1)\n",
      "(datetime.datetime(2018, 11, 13, 1, 12, 29, 796000), 1, 13, 46, 11, 2018, 1)\n",
      "(datetime.datetime(2018, 11, 13, 3, 19, 2, 796000), 3, 13, 46, 11, 2018, 1)\n",
      "(datetime.datetime(2018, 11, 13, 3, 51, 52, 796000), 3, 13, 46, 11, 2018, 1)\n",
      "(datetime.datetime(2018, 11, 13, 5, 0, 6, 796000), 5, 13, 46, 11, 2018, 1)\n"
     ]
    }
   ],
   "source": [
    "# Print first 5 elements of table time\n",
    "cur.execute(\"select * FROM time LIMIT 5;\")\n",
    "rows = cur.fetchall()\n",
    "for row in rows:\n",
    "    print(row)"
   ]
  },
  {
   "cell_type": "code",
   "execution_count": 13,
   "metadata": {},
   "outputs": [
    {
     "name": "stdout",
     "output_type": "stream",
     "text": [
      "('SOZCTXZ12AB0182364', 'AR5KOSW1187FB35FF4')\n"
     ]
    }
   ],
   "source": [
    "# Is there any row on songplays where artist_id is not null?\n",
    "cur.execute(\"select song_id, artist_id  FROM songplays WHERE artist_id IS NOT NULL;\")\n",
    "rows = cur.fetchall()\n",
    "for row in rows:\n",
    "    print(row)"
   ]
  },
  {
   "cell_type": "code",
   "execution_count": 14,
   "metadata": {},
   "outputs": [],
   "source": [
    "# Close cursor and connection to database\n",
    "cur.close()\n",
    "conn.close()"
   ]
  },
  {
   "cell_type": "markdown",
   "metadata": {},
   "source": [
    "## REMEMBER: Restart this notebook to close connection to `sparkifydb`\n",
    "Each time you run the cells above, remember to restart this notebook to close the connection to your database. Otherwise, you won't be able to run your code in `create_tables.py`, `etl.py`, or `etl.ipynb` files since you can't make multiple connections to the same database (in this case, sparkifydb)."
   ]
  }
 ],
 "metadata": {
  "kernelspec": {
   "display_name": "venv",
   "language": "python",
   "name": "venv"
  },
  "language_info": {
   "codemirror_mode": {
    "name": "ipython",
    "version": 3
   },
   "file_extension": ".py",
   "mimetype": "text/x-python",
   "name": "python",
   "nbconvert_exporter": "python",
   "pygments_lexer": "ipython3",
   "version": "3.7.10"
  }
 },
 "nbformat": 4,
 "nbformat_minor": 2
}
